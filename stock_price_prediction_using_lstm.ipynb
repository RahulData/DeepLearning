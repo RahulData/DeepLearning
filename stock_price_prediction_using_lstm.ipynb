{
 "cells": [
  {
   "cell_type": "markdown",
   "metadata": {},
   "source": [
    "# Stock Prices Prediction Using Keras Long Short Term Memory"
   ]
  },
  {
   "cell_type": "code",
   "execution_count": 1,
   "metadata": {
    "collapsed": true
   },
   "outputs": [],
   "source": [
    "# Part 1 - Data Preprocessing\n",
    "\n",
    "# Importing the libraries\n",
    "import numpy as np\n",
    "import matplotlib.pyplot as plt\n",
    "import pandas as pd"
   ]
  },
  {
   "cell_type": "code",
   "execution_count": 2,
   "metadata": {
    "collapsed": true
   },
   "outputs": [],
   "source": [
    "# Importing the training set\n",
    "dataset_train = pd.read_csv('NSE-TATAGLOBAL.csv')\n",
    "training_set = dataset_train.iloc[:, 1:2].values"
   ]
  },
  {
   "cell_type": "code",
   "execution_count": 3,
   "metadata": {},
   "outputs": [
    {
     "data": {
      "text/plain": [
       "(         Date    Open    High     Low    Last   Close  Total Trade Quantity  \\\n",
       " 0  2018-09-28  234.05  235.95  230.20  233.50  233.75               3069914   \n",
       " 1  2018-09-27  234.55  236.80  231.10  233.80  233.25               5082859   \n",
       " 2  2018-09-26  240.00  240.00  232.50  235.00  234.25               2240909   \n",
       " 3  2018-09-25  233.30  236.75  232.00  236.25  236.10               2349368   \n",
       " 4  2018-09-24  233.55  239.20  230.75  234.00  233.30               3423509   \n",
       " \n",
       "    Turnover (Lacs)  \n",
       " 0          7162.35  \n",
       " 1         11859.95  \n",
       " 2          5248.60  \n",
       " 3          5503.90  \n",
       " 4          7999.55  ,\n",
       "             Date   Open    High     Low    Last   Close  Total Trade Quantity  \\\n",
       " 2030  2010-07-27  117.6  119.50  112.00  118.80  118.65                586100   \n",
       " 2031  2010-07-26  120.1  121.00  117.10  117.10  117.60                658440   \n",
       " 2032  2010-07-23  121.8  121.95  120.25  120.35  120.65                281312   \n",
       " 2033  2010-07-22  120.3  122.00  120.25  120.75  120.90                293312   \n",
       " 2034  2010-07-21  122.1  123.00  121.05  121.10  121.55                658666   \n",
       " \n",
       "       Turnover (Lacs)  \n",
       " 2030           694.98  \n",
       " 2031           780.01  \n",
       " 2032           340.31  \n",
       " 2033           355.17  \n",
       " 2034           803.56  )"
      ]
     },
     "execution_count": 3,
     "metadata": {},
     "output_type": "execute_result"
    }
   ],
   "source": [
    "dataset_train.head(),dataset_train.tail()\n"
   ]
  },
  {
   "cell_type": "code",
   "execution_count": 4,
   "metadata": {
    "collapsed": true
   },
   "outputs": [],
   "source": [
    "# Feature Scaling\n",
    "from sklearn.preprocessing import MinMaxScaler\n",
    "sc = MinMaxScaler(feature_range = (0, 1))\n",
    "training_set_scaled = sc.fit_transform(training_set)"
   ]
  },
  {
   "cell_type": "code",
   "execution_count": 5,
   "metadata": {},
   "outputs": [
    {
     "data": {
      "text/plain": [
       "(2035, (2035, 1), array([[0.6202352 ],\n",
       "        [0.62226277],\n",
       "        [0.64436334],\n",
       "        ...,\n",
       "        [0.16504461],\n",
       "        [0.15896188],\n",
       "        [0.16626115]]))"
      ]
     },
     "execution_count": 5,
     "metadata": {},
     "output_type": "execute_result"
    }
   ],
   "source": [
    "len(training_set_scaled), training_set_scaled.shape, training_set_scaled"
   ]
  },
  {
   "cell_type": "code",
   "execution_count": 6,
   "metadata": {
    "collapsed": true
   },
   "outputs": [],
   "source": [
    "# Creating a data structure with 60 timesteps and 1 output\n",
    "X_train = []\n",
    "y_train = []\n",
    "for i in range(60, 2035):\n",
    "    X_train.append(training_set_scaled[i-60:i, 0])\n",
    "    y_train.append(training_set_scaled[i, 0])\n",
    "X_train, y_train = np.array(X_train), np.array(y_train)"
   ]
  },
  {
   "cell_type": "code",
   "execution_count": 7,
   "metadata": {},
   "outputs": [
    {
     "data": {
      "text/plain": [
       "array([[0.6202352 ],\n",
       "       [0.62226277],\n",
       "       [0.64436334],\n",
       "       ...,\n",
       "       [0.16504461],\n",
       "       [0.15896188],\n",
       "       [0.16626115]])"
      ]
     },
     "execution_count": 7,
     "metadata": {},
     "output_type": "execute_result"
    }
   ],
   "source": [
    "training_set_scaled"
   ]
  },
  {
   "cell_type": "code",
   "execution_count": 8,
   "metadata": {},
   "outputs": [
    {
     "data": {
      "text/plain": [
       "array([0.6202352 , 0.62226277, 0.64436334, 0.61719384, 0.61820762,\n",
       "       0.62408759, 0.62793998, 0.63584753, 0.61658556, 0.57725061,\n",
       "       0.54845904, 0.57339822, 0.57339822, 0.56731549, 0.57948094,\n",
       "       0.57137064, 0.63706407, 0.62814274, 0.63219789, 0.62550689,\n",
       "       0.61942417, 0.63219789, 0.61111111, 0.62206002, 0.64557989,\n",
       "       0.67234388, 0.66058394, 0.64760746, 0.6283455 , 0.62408759,\n",
       "       0.61597729, 0.63341444, 0.63077859, 0.63321168, 0.64841849,\n",
       "       0.62469586, 0.62814274, 0.61394972, 0.67964315, 0.65815085,\n",
       "       0.6593674 , 0.64841849, 0.62773723, 0.67883212, 0.66058394,\n",
       "       0.63990268, 0.60888078, 0.6431468 , 0.6784266 , 0.65064882,\n",
       "       0.71695053, 0.74574209, 0.7676399 , 0.78548256, 0.78994323,\n",
       "       0.75892133, 0.76520681, 0.79622871, 0.81062449, 0.74371452])"
      ]
     },
     "execution_count": 8,
     "metadata": {},
     "output_type": "execute_result"
    }
   ],
   "source": [
    "training_set_scaled[0:60, 0]"
   ]
  },
  {
   "cell_type": "code",
   "execution_count": 9,
   "metadata": {},
   "outputs": [
    {
     "data": {
      "text/plain": [
       "((1975, 60),\n",
       " array([[0.6202352 , 0.62226277, 0.64436334, ..., 0.79622871, 0.81062449,\n",
       "         0.74371452],\n",
       "        [0.62226277, 0.64436334, 0.61719384, ..., 0.81062449, 0.74371452,\n",
       "         0.77007299],\n",
       "        [0.64436334, 0.61719384, 0.61820762, ..., 0.74371452, 0.77007299,\n",
       "         0.73641525],\n",
       "        ...,\n",
       "        [0.19870235, 0.21796431, 0.21553122, ..., 0.14963504, 0.14801298,\n",
       "         0.15815085],\n",
       "        [0.21796431, 0.21553122, 0.20600162, ..., 0.14801298, 0.15815085,\n",
       "         0.16504461],\n",
       "        [0.21553122, 0.20600162, 0.21654501, ..., 0.15815085, 0.16504461,\n",
       "         0.15896188]]))"
      ]
     },
     "execution_count": 9,
     "metadata": {},
     "output_type": "execute_result"
    }
   ],
   "source": [
    "X_train.shape, X_train"
   ]
  },
  {
   "cell_type": "code",
   "execution_count": 10,
   "metadata": {
    "collapsed": true
   },
   "outputs": [],
   "source": [
    "# Reshaping\n",
    "X_train = np.reshape(X_train, (X_train.shape[0], X_train.shape[1], 1))"
   ]
  },
  {
   "cell_type": "code",
   "execution_count": 11,
   "metadata": {},
   "outputs": [
    {
     "data": {
      "text/plain": [
       "((1975, 60, 1), array([[[0.6202352 ],\n",
       "         [0.62226277],\n",
       "         [0.64436334],\n",
       "         ...,\n",
       "         [0.79622871],\n",
       "         [0.81062449],\n",
       "         [0.74371452]],\n",
       " \n",
       "        [[0.62226277],\n",
       "         [0.64436334],\n",
       "         [0.61719384],\n",
       "         ...,\n",
       "         [0.81062449],\n",
       "         [0.74371452],\n",
       "         [0.77007299]],\n",
       " \n",
       "        [[0.64436334],\n",
       "         [0.61719384],\n",
       "         [0.61820762],\n",
       "         ...,\n",
       "         [0.74371452],\n",
       "         [0.77007299],\n",
       "         [0.73641525]],\n",
       " \n",
       "        ...,\n",
       " \n",
       "        [[0.19870235],\n",
       "         [0.21796431],\n",
       "         [0.21553122],\n",
       "         ...,\n",
       "         [0.14963504],\n",
       "         [0.14801298],\n",
       "         [0.15815085]],\n",
       " \n",
       "        [[0.21796431],\n",
       "         [0.21553122],\n",
       "         [0.20600162],\n",
       "         ...,\n",
       "         [0.14801298],\n",
       "         [0.15815085],\n",
       "         [0.16504461]],\n",
       " \n",
       "        [[0.21553122],\n",
       "         [0.20600162],\n",
       "         [0.21654501],\n",
       "         ...,\n",
       "         [0.15815085],\n",
       "         [0.16504461],\n",
       "         [0.15896188]]]))"
      ]
     },
     "execution_count": 11,
     "metadata": {},
     "output_type": "execute_result"
    }
   ],
   "source": [
    "X_train.shape, X_train"
   ]
  },
  {
   "cell_type": "code",
   "execution_count": 12,
   "metadata": {},
   "outputs": [
    {
     "name": "stderr",
     "output_type": "stream",
     "text": [
      "C:\\Users\\rahsood\\AppData\\Local\\Continuum\\Anaconda3\\lib\\site-packages\\h5py\\__init__.py:34: FutureWarning: Conversion of the second argument of issubdtype from `float` to `np.floating` is deprecated. In future, it will be treated as `np.float64 == np.dtype(float).type`.\n",
      "  from ._conv import register_converters as _register_converters\n",
      "Using TensorFlow backend.\n"
     ]
    }
   ],
   "source": [
    "# Part 2 - Building the RNN\n",
    "\n",
    "# Importing the Keras libraries and packages\n",
    "from keras.models import Sequential\n",
    "from keras.layers import Dense\n",
    "from keras.layers import LSTM\n",
    "from keras.layers import Dropout"
   ]
  },
  {
   "cell_type": "code",
   "execution_count": 13,
   "metadata": {},
   "outputs": [
    {
     "data": {
      "text/plain": [
       "(60, 1)"
      ]
     },
     "execution_count": 13,
     "metadata": {},
     "output_type": "execute_result"
    }
   ],
   "source": [
    "X_train.shape[1], 1 \n",
    "# 3D Shape has Time-steps and Features"
   ]
  },
  {
   "cell_type": "markdown",
   "metadata": {},
   "source": [
    "#50 is the dimensionality of the output space"
   ]
  },
  {
   "cell_type": "code",
   "execution_count": 14,
   "metadata": {
    "collapsed": true
   },
   "outputs": [],
   "source": [
    "# Initialising the RNN\n",
    "regressor = Sequential()\n",
    "\n",
    "# Adding the first LSTM layer and some Dropout regularisation\n",
    "regressor.add(LSTM(units = 50, return_sequences = True, input_shape = (X_train.shape[1], 1)))\n",
    "regressor.add(Dropout(0.2))"
   ]
  },
  {
   "cell_type": "code",
   "execution_count": 15,
   "metadata": {
    "collapsed": true
   },
   "outputs": [],
   "source": [
    "# Adding a second LSTM layer and some Dropout regularisation\n",
    "regressor.add(LSTM(units = 50, return_sequences = True))\n",
    "regressor.add(Dropout(0.2))"
   ]
  },
  {
   "cell_type": "code",
   "execution_count": 16,
   "metadata": {
    "collapsed": true
   },
   "outputs": [],
   "source": [
    "\n",
    "# Adding a third LSTM layer and some Dropout regularisation\n",
    "regressor.add(LSTM(units = 50, return_sequences = True))\n",
    "regressor.add(Dropout(0.2))"
   ]
  },
  {
   "cell_type": "code",
   "execution_count": 17,
   "metadata": {
    "collapsed": true
   },
   "outputs": [],
   "source": [
    "# Adding a fourth LSTM layer and some Dropout regularisation\n",
    "regressor.add(LSTM(units = 50))\n",
    "regressor.add(Dropout(0.2))\n"
   ]
  },
  {
   "cell_type": "code",
   "execution_count": 18,
   "metadata": {},
   "outputs": [],
   "source": [
    "# Adding the output layer\n",
    "regressor.add(Dense(units = 1))"
   ]
  },
  {
   "cell_type": "code",
   "execution_count": 19,
   "metadata": {},
   "outputs": [
    {
     "name": "stdout",
     "output_type": "stream",
     "text": [
      "_________________________________________________________________\n",
      "Layer (type)                 Output Shape              Param #   \n",
      "=================================================================\n",
      "lstm_1 (LSTM)                (None, 60, 50)            10400     \n",
      "_________________________________________________________________\n",
      "dropout_1 (Dropout)          (None, 60, 50)            0         \n",
      "_________________________________________________________________\n",
      "lstm_2 (LSTM)                (None, 60, 50)            20200     \n",
      "_________________________________________________________________\n",
      "dropout_2 (Dropout)          (None, 60, 50)            0         \n",
      "_________________________________________________________________\n",
      "lstm_3 (LSTM)                (None, 60, 50)            20200     \n",
      "_________________________________________________________________\n",
      "dropout_3 (Dropout)          (None, 60, 50)            0         \n",
      "_________________________________________________________________\n",
      "lstm_4 (LSTM)                (None, 50)                20200     \n",
      "_________________________________________________________________\n",
      "dropout_4 (Dropout)          (None, 50)                0         \n",
      "_________________________________________________________________\n",
      "dense_1 (Dense)              (None, 1)                 51        \n",
      "=================================================================\n",
      "Total params: 71,051\n",
      "Trainable params: 71,051\n",
      "Non-trainable params: 0\n",
      "_________________________________________________________________\n",
      "None\n"
     ]
    }
   ],
   "source": [
    "print(regressor.summary())"
   ]
  },
  {
   "cell_type": "code",
   "execution_count": 20,
   "metadata": {},
   "outputs": [
    {
     "name": "stdout",
     "output_type": "stream",
     "text": [
      "Epoch 1/100\n",
      "1975/1975 [==============================] - 10s 5ms/step - loss: 0.0113\n",
      "Epoch 2/100\n",
      "1975/1975 [==============================] - 7s 3ms/step - loss: 0.0026\n",
      "Epoch 3/100\n",
      "1975/1975 [==============================] - 7s 4ms/step - loss: 0.0026\n",
      "Epoch 4/100\n",
      "1975/1975 [==============================] - 7s 4ms/step - loss: 0.0025\n",
      "Epoch 5/100\n",
      "1975/1975 [==============================] - 8s 4ms/step - loss: 0.0026\n",
      "Epoch 6/100\n",
      "1975/1975 [==============================] - 7s 4ms/step - loss: 0.0023\n",
      "Epoch 7/100\n",
      "1975/1975 [==============================] - 7s 3ms/step - loss: 0.0022\n",
      "Epoch 8/100\n",
      "1975/1975 [==============================] - 8s 4ms/step - loss: 0.0019\n",
      "Epoch 9/100\n",
      "1975/1975 [==============================] - 7s 4ms/step - loss: 0.0018\n",
      "Epoch 10/100\n",
      "1975/1975 [==============================] - 7s 4ms/step - loss: 0.0020\n",
      "Epoch 11/100\n",
      "1975/1975 [==============================] - 7s 4ms/step - loss: 0.0018\n",
      "Epoch 12/100\n",
      "1975/1975 [==============================] - 10s 5ms/step - loss: 0.0016\n",
      "Epoch 13/100\n",
      "1975/1975 [==============================] - 9s 4ms/step - loss: 0.0018\n",
      "Epoch 14/100\n",
      "1975/1975 [==============================] - 7s 4ms/step - loss: 0.0017\n",
      "Epoch 15/100\n",
      "1975/1975 [==============================] - 7s 4ms/step - loss: 0.0016\n",
      "Epoch 16/100\n",
      "1975/1975 [==============================] - 7s 4ms/step - loss: 0.0015\n",
      "Epoch 17/100\n",
      "1975/1975 [==============================] - 8s 4ms/step - loss: 0.0015\n",
      "Epoch 18/100\n",
      "1975/1975 [==============================] - 8s 4ms/step - loss: 0.0014\n",
      "Epoch 19/100\n",
      "1975/1975 [==============================] - 7s 4ms/step - loss: 0.0016\n",
      "Epoch 20/100\n",
      "1975/1975 [==============================] - 7s 4ms/step - loss: 0.0015\n",
      "Epoch 21/100\n",
      "1975/1975 [==============================] - 8s 4ms/step - loss: 0.0013\n",
      "Epoch 22/100\n",
      "1975/1975 [==============================] - 9s 5ms/step - loss: 0.0013\n",
      "Epoch 23/100\n",
      "1975/1975 [==============================] - 8s 4ms/step - loss: 0.0013\n",
      "Epoch 24/100\n",
      "1975/1975 [==============================] - 8s 4ms/step - loss: 0.0012\n",
      "Epoch 25/100\n",
      "1975/1975 [==============================] - 8s 4ms/step - loss: 0.0012\n",
      "Epoch 26/100\n",
      "1975/1975 [==============================] - 8s 4ms/step - loss: 0.0012\n",
      "Epoch 27/100\n",
      "1975/1975 [==============================] - 8s 4ms/step - loss: 0.0012\n",
      "Epoch 28/100\n",
      "1975/1975 [==============================] - 8s 4ms/step - loss: 0.0011\n",
      "Epoch 29/100\n",
      "1975/1975 [==============================] - 8s 4ms/step - loss: 0.0011\n",
      "Epoch 30/100\n",
      "1975/1975 [==============================] - 8s 4ms/step - loss: 0.0012\n",
      "Epoch 31/100\n",
      "1975/1975 [==============================] - 8s 4ms/step - loss: 0.0012\n",
      "Epoch 32/100\n",
      "1975/1975 [==============================] - 8s 4ms/step - loss: 0.0013\n",
      "Epoch 33/100\n",
      "1975/1975 [==============================] - 8s 4ms/step - loss: 0.0011\n",
      "Epoch 34/100\n",
      "1975/1975 [==============================] - 8s 4ms/step - loss: 0.0011\n",
      "Epoch 35/100\n",
      "1975/1975 [==============================] - 8s 4ms/step - loss: 9.7920e-04\n",
      "Epoch 36/100\n",
      "1975/1975 [==============================] - 8s 4ms/step - loss: 9.7150e-04\n",
      "Epoch 37/100\n",
      "1975/1975 [==============================] - 8s 4ms/step - loss: 0.0010\n",
      "Epoch 38/100\n",
      "1975/1975 [==============================] - 8s 4ms/step - loss: 9.4935e-04\n",
      "Epoch 39/100\n",
      "1975/1975 [==============================] - 8s 4ms/step - loss: 8.0845e-04\n",
      "Epoch 40/100\n",
      "1975/1975 [==============================] - 8s 4ms/step - loss: 9.8721e-04\n",
      "Epoch 41/100\n",
      "1975/1975 [==============================] - 8s 4ms/step - loss: 8.9915e-04\n",
      "Epoch 42/100\n",
      "1975/1975 [==============================] - 8s 4ms/step - loss: 0.0011\n",
      "Epoch 43/100\n",
      "1975/1975 [==============================] - 8s 4ms/step - loss: 8.4787e-04\n",
      "Epoch 44/100\n",
      "1975/1975 [==============================] - 8s 4ms/step - loss: 8.2065e-04\n",
      "Epoch 45/100\n",
      "1975/1975 [==============================] - 8s 4ms/step - loss: 9.2054e-04\n",
      "Epoch 46/100\n",
      "1975/1975 [==============================] - 8s 4ms/step - loss: 8.9434e-04\n",
      "Epoch 47/100\n",
      "1975/1975 [==============================] - 8s 4ms/step - loss: 8.9501e-04\n",
      "Epoch 48/100\n",
      "1975/1975 [==============================] - 7s 4ms/step - loss: 6.9494e-04\n",
      "Epoch 49/100\n",
      "1975/1975 [==============================] - 8s 4ms/step - loss: 8.6841e-04\n",
      "Epoch 50/100\n",
      "1975/1975 [==============================] - 9s 4ms/step - loss: 8.6769e-04\n",
      "Epoch 51/100\n",
      "1975/1975 [==============================] - 9s 4ms/step - loss: 7.8934e-04\n",
      "Epoch 52/100\n",
      "1975/1975 [==============================] - 8s 4ms/step - loss: 8.1006e-04\n",
      "Epoch 53/100\n",
      "1975/1975 [==============================] - 8s 4ms/step - loss: 7.9499e-04\n",
      "Epoch 54/100\n",
      "1975/1975 [==============================] - 8s 4ms/step - loss: 8.3034e-04\n",
      "Epoch 55/100\n",
      "1975/1975 [==============================] - 8s 4ms/step - loss: 7.6880e-04\n",
      "Epoch 56/100\n",
      "1975/1975 [==============================] - 8s 4ms/step - loss: 8.2873e-04\n",
      "Epoch 57/100\n",
      "1975/1975 [==============================] - 8s 4ms/step - loss: 9.0646e-04\n",
      "Epoch 58/100\n",
      "1975/1975 [==============================] - 8s 4ms/step - loss: 7.4979e-04\n",
      "Epoch 59/100\n",
      "1975/1975 [==============================] - 8s 4ms/step - loss: 7.6474e-04\n",
      "Epoch 60/100\n",
      "1975/1975 [==============================] - 11s 5ms/step - loss: 7.1390e-04\n",
      "Epoch 61/100\n",
      "1975/1975 [==============================] - 9s 4ms/step - loss: 7.6266e-04\n",
      "Epoch 62/100\n",
      "1975/1975 [==============================] - 8s 4ms/step - loss: 8.1383e-04\n",
      "Epoch 63/100\n",
      "1975/1975 [==============================] - 8s 4ms/step - loss: 6.9528e-04\n",
      "Epoch 64/100\n",
      "1975/1975 [==============================] - 8s 4ms/step - loss: 7.7192e-04\n",
      "Epoch 65/100\n",
      "1975/1975 [==============================] - 8s 4ms/step - loss: 6.8589e-04\n",
      "Epoch 66/100\n",
      "1975/1975 [==============================] - 8s 4ms/step - loss: 6.3411e-04\n",
      "Epoch 67/100\n",
      "1975/1975 [==============================] - 8s 4ms/step - loss: 6.6981e-04\n",
      "Epoch 68/100\n",
      "1975/1975 [==============================] - 8s 4ms/step - loss: 8.7432e-04\n",
      "Epoch 69/100\n",
      "1975/1975 [==============================] - 8s 4ms/step - loss: 8.4239e-04\n",
      "Epoch 70/100\n",
      "1975/1975 [==============================] - 8s 4ms/step - loss: 6.5051e-04\n",
      "Epoch 71/100\n",
      "1975/1975 [==============================] - 8s 4ms/step - loss: 6.5458e-04\n",
      "Epoch 72/100\n",
      "1975/1975 [==============================] - 8s 4ms/step - loss: 7.2527e-04\n",
      "Epoch 73/100\n",
      "1975/1975 [==============================] - 8s 4ms/step - loss: 8.3921e-04\n",
      "Epoch 74/100\n",
      "1975/1975 [==============================] - 8s 4ms/step - loss: 7.0872e-04\n",
      "Epoch 75/100\n",
      "1975/1975 [==============================] - 8s 4ms/step - loss: 7.3030e-04\n",
      "Epoch 76/100\n",
      "1975/1975 [==============================] - 8s 4ms/step - loss: 6.5671e-04\n",
      "Epoch 77/100\n",
      "1975/1975 [==============================] - 7s 4ms/step - loss: 6.6597e-04\n",
      "Epoch 78/100\n",
      "1975/1975 [==============================] - 8s 4ms/step - loss: 7.3574e-04\n",
      "Epoch 79/100\n",
      "1975/1975 [==============================] - 8s 4ms/step - loss: 6.9506e-04\n",
      "Epoch 80/100\n",
      "1975/1975 [==============================] - 8s 4ms/step - loss: 7.1066e-04\n",
      "Epoch 81/100\n",
      "1975/1975 [==============================] - 8s 4ms/step - loss: 6.4428e-04\n",
      "Epoch 82/100\n",
      "1975/1975 [==============================] - 8s 4ms/step - loss: 7.8907e-04\n",
      "Epoch 83/100\n",
      "1975/1975 [==============================] - 8s 4ms/step - loss: 6.2598e-04\n",
      "Epoch 84/100\n",
      "1975/1975 [==============================] - 8s 4ms/step - loss: 5.6355e-04\n",
      "Epoch 85/100\n",
      "1975/1975 [==============================] - 8s 4ms/step - loss: 6.2347e-04\n",
      "Epoch 86/100\n",
      "1975/1975 [==============================] - 7s 4ms/step - loss: 6.1779e-04\n",
      "Epoch 87/100\n",
      "1975/1975 [==============================] - 8s 4ms/step - loss: 6.3798e-04\n",
      "Epoch 88/100\n",
      "1975/1975 [==============================] - 8s 4ms/step - loss: 6.1435e-04\n",
      "Epoch 89/100\n",
      "1975/1975 [==============================] - 8s 4ms/step - loss: 6.1930e-04\n",
      "Epoch 90/100\n",
      "1975/1975 [==============================] - 8s 4ms/step - loss: 6.7193e-04\n",
      "Epoch 91/100\n",
      "1975/1975 [==============================] - 8s 4ms/step - loss: 7.0130e-04\n",
      "Epoch 92/100\n",
      "1975/1975 [==============================] - 8s 4ms/step - loss: 6.2358e-04\n",
      "Epoch 93/100\n",
      "1975/1975 [==============================] - 8s 4ms/step - loss: 6.1408e-04\n",
      "Epoch 94/100\n"
     ]
    },
    {
     "name": "stdout",
     "output_type": "stream",
     "text": [
      "1975/1975 [==============================] - 8s 4ms/step - loss: 7.3653e-04\n",
      "Epoch 95/100\n",
      "1975/1975 [==============================] - 7s 4ms/step - loss: 5.6176e-04\n",
      "Epoch 96/100\n",
      "1975/1975 [==============================] - 8s 4ms/step - loss: 6.2735e-04\n",
      "Epoch 97/100\n",
      "1975/1975 [==============================] - 8s 4ms/step - loss: 6.1815e-04\n",
      "Epoch 98/100\n",
      "1975/1975 [==============================] - 8s 4ms/step - loss: 6.7295e-04\n",
      "Epoch 99/100\n",
      "1975/1975 [==============================] - 7s 4ms/step - loss: 6.4010e-04\n",
      "Epoch 100/100\n",
      "1975/1975 [==============================] - 7s 4ms/step - loss: 6.5149e-04\n"
     ]
    },
    {
     "data": {
      "text/plain": [
       "<keras.callbacks.History at 0xe4ff748>"
      ]
     },
     "execution_count": 20,
     "metadata": {},
     "output_type": "execute_result"
    }
   ],
   "source": [
    "# Compiling the RNN\n",
    "regressor.compile(optimizer = 'adam', loss = 'mean_squared_error')\n",
    "\n",
    "# Fitting the RNN to the Training set\n",
    "regressor.fit(X_train, y_train, epochs = 100, batch_size = 32)"
   ]
  },
  {
   "cell_type": "code",
   "execution_count": 21,
   "metadata": {
    "collapsed": true
   },
   "outputs": [],
   "source": [
    "# Part 3 - Making the predictions and visualising the results\n",
    "\n",
    "# Getting the real stock price of 2017\n",
    "dataset_test = pd.read_csv('tatatest.csv')\n",
    "real_stock_price = dataset_test.iloc[:, 1:2].values"
   ]
  },
  {
   "cell_type": "code",
   "execution_count": 22,
   "metadata": {},
   "outputs": [
    {
     "data": {
      "text/plain": [
       "array([[220.1 ],\n",
       "       [221.1 ],\n",
       "       [229.45],\n",
       "       [230.3 ],\n",
       "       [237.7 ],\n",
       "       [237.1 ],\n",
       "       [229.7 ],\n",
       "       [226.25],\n",
       "       [215.  ],\n",
       "       [215.  ],\n",
       "       [215.5 ],\n",
       "       [208.  ],\n",
       "       [217.  ],\n",
       "       [223.5 ],\n",
       "       [230.  ],\n",
       "       [234.55]])"
      ]
     },
     "execution_count": 22,
     "metadata": {},
     "output_type": "execute_result"
    }
   ],
   "source": [
    "real_stock_price"
   ]
  },
  {
   "cell_type": "code",
   "execution_count": 23,
   "metadata": {
    "collapsed": true
   },
   "outputs": [],
   "source": [
    "# Getting the predicted stock price of 2017\n",
    "dataset_total = pd.concat((dataset_train['Open'], dataset_test['Open']), axis = 0)\n",
    "inputs = dataset_total[len(dataset_total) - len(dataset_test) - 60:].values\n",
    "inputs = inputs.reshape(-1,1)\n",
    "inputs = sc.transform(inputs)\n",
    "X_test = []\n",
    "for i in range(60, 76):\n",
    "    X_test.append(inputs[i-60:i, 0])\n",
    "X_test = np.array(X_test)\n",
    "X_test = np.reshape(X_test, (X_test.shape[0], X_test.shape[1], 1))\n",
    "predicted_stock_price = regressor.predict(X_test)\n",
    "predicted_stock_price = sc.inverse_transform(predicted_stock_price)\n"
   ]
  },
  {
   "cell_type": "code",
   "execution_count": 55,
   "metadata": {},
   "outputs": [],
   "source": [
    "frames = [pd.DataFrame(predicted_stock_price, columns=['Predicted']), pd.DataFrame(real_stock_price, columns=['Real'])]"
   ]
  },
  {
   "cell_type": "code",
   "execution_count": 56,
   "metadata": {},
   "outputs": [],
   "source": [
    "df_comparison = pd.concat(frames, axis=1)"
   ]
  },
  {
   "cell_type": "code",
   "execution_count": 58,
   "metadata": {},
   "outputs": [
    {
     "data": {
      "text/html": [
       "<div>\n",
       "<style>\n",
       "    .dataframe thead tr:only-child th {\n",
       "        text-align: right;\n",
       "    }\n",
       "\n",
       "    .dataframe thead th {\n",
       "        text-align: left;\n",
       "    }\n",
       "\n",
       "    .dataframe tbody tr th {\n",
       "        vertical-align: top;\n",
       "    }\n",
       "</style>\n",
       "<table border=\"1\" class=\"dataframe\">\n",
       "  <thead>\n",
       "    <tr style=\"text-align: right;\">\n",
       "      <th></th>\n",
       "      <th>Predicted</th>\n",
       "      <th>Real</th>\n",
       "    </tr>\n",
       "  </thead>\n",
       "  <tbody>\n",
       "    <tr>\n",
       "      <th>0</th>\n",
       "      <td>123.878006</td>\n",
       "      <td>220.10</td>\n",
       "    </tr>\n",
       "    <tr>\n",
       "      <th>1</th>\n",
       "      <td>186.940353</td>\n",
       "      <td>221.10</td>\n",
       "    </tr>\n",
       "    <tr>\n",
       "      <th>2</th>\n",
       "      <td>214.690201</td>\n",
       "      <td>229.45</td>\n",
       "    </tr>\n",
       "    <tr>\n",
       "      <th>3</th>\n",
       "      <td>219.947403</td>\n",
       "      <td>230.30</td>\n",
       "    </tr>\n",
       "    <tr>\n",
       "      <th>4</th>\n",
       "      <td>220.322388</td>\n",
       "      <td>237.70</td>\n",
       "    </tr>\n",
       "  </tbody>\n",
       "</table>\n",
       "</div>"
      ],
      "text/plain": [
       "    Predicted    Real\n",
       "0  123.878006  220.10\n",
       "1  186.940353  221.10\n",
       "2  214.690201  229.45\n",
       "3  219.947403  230.30\n",
       "4  220.322388  237.70"
      ]
     },
     "execution_count": 58,
     "metadata": {},
     "output_type": "execute_result"
    }
   ],
   "source": [
    "df_comparison.head()"
   ]
  },
  {
   "cell_type": "code",
   "execution_count": 59,
   "metadata": {},
   "outputs": [
    {
     "data": {
      "image/png": "[encoded data removed]",
      "text/plain": [
       "<matplotlib.figure.Figure at 0x20910eb8>"
      ]
     },
     "metadata": {},
     "output_type": "display_data"
    }
   ],
   "source": [
    "# Visualising the results\n",
    "plt.plot(real_stock_price, color = 'red', label = 'Real TATA Stock Price')\n",
    "plt.plot(predicted_stock_price, color = 'blue', label = 'Predicted TAT Stock Price')\n",
    "plt.title('TATA Stock Price Prediction')\n",
    "plt.xlabel('Time')\n",
    "plt.ylabel('TATA Stock Price')\n",
    "plt.legend()\n",
    "plt.show()"
   ]
  }
 ],
 "metadata": {
  "kernelspec": {
   "display_name": "Python 3",
   "language": "python",
   "name": "python3"
  },
  "language_info": {
   "codemirror_mode": {
    "name": "ipython",
    "version": 3
   },
   "file_extension": ".py",
   "mimetype": "text/x-python",
   "name": "python",
   "nbconvert_exporter": "python",
   "pygments_lexer": "ipython3",
   "version": "3.6.1"
  }
 },
 "nbformat": 4,
 "nbformat_minor": 2
}
