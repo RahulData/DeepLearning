{
 "cells": [
  {
   "cell_type": "code",
   "execution_count": null,
   "metadata": {
    "collapsed": true
   },
   "outputs": [],
   "source": []
  },
  {
   "cell_type": "code",
   "execution_count": 1,
   "metadata": {
    "collapsed": true
   },
   "outputs": [],
   "source": [
    "# train the deep learning model with training data\n",
    "import glob\n",
    "import os\n",
    "import pickle\n",
    "from PIL import Image\n",
    "import numpy as np"
   ]
  },
  {
   "cell_type": "code",
   "execution_count": 2,
   "metadata": {},
   "outputs": [
    {
     "name": "stdout",
     "output_type": "stream",
     "text": [
      "1.15.0\n"
     ]
    }
   ],
   "source": [
    "print(np.__version__)"
   ]
  },
  {
   "cell_type": "code",
   "execution_count": 1,
   "metadata": {},
   "outputs": [
    {
     "name": "stdout",
     "output_type": "stream",
     "text": [
      "Collecting pandas==0.21.0\n",
      "  Downloading https://files.pythonhosted.org/packages/4e/a9/48951bfa4572aea7ccce30f9400b3f35554e9dcd2d503efe408b1c964c0b/pandas-0.21.0-cp36-cp36m-win_amd64.whl (9.1MB)\n",
      "Requirement already satisfied: python-dateutil>=2 in c:\\users\\rahsood\\appdata\\local\\continuum\\anaconda3\\lib\\site-packages (from pandas==0.21.0) (2.6.0)\n",
      "Requirement already satisfied: numpy>=1.9.0 in c:\\users\\rahsood\\appdata\\local\\continuum\\anaconda3\\lib\\site-packages (from pandas==0.21.0) (1.15.0)\n",
      "Requirement already satisfied: pytz>=2011k in c:\\users\\rahsood\\appdata\\local\\continuum\\anaconda3\\lib\\site-packages (from pandas==0.21.0) (2017.2)\n",
      "Requirement already satisfied: six>=1.5 in c:\\users\\rahsood\\appdata\\roaming\\python\\python36\\site-packages (from python-dateutil>=2->pandas==0.21.0) (1.11.0)\n",
      "Installing collected packages: pandas\n",
      "  Found existing installation: pandas 0.20.1\n",
      "    Uninstalling pandas-0.20.1:\n",
      "      Successfully uninstalled pandas-0.20.1\n",
      "Successfully installed pandas-0.21.0\n"
     ]
    },
    {
     "name": "stderr",
     "output_type": "stream",
     "text": [
      "You are using pip version 18.1, however version 19.2.3 is available.\n",
      "You should consider upgrading via the 'python -m pip install --upgrade pip' command.\n"
     ]
    }
   ],
   "source": [
    "!pip install pandas==0.21.0"
   ]
  },
  {
   "cell_type": "code",
   "execution_count": 3,
   "metadata": {},
   "outputs": [
    {
     "name": "stderr",
     "output_type": "stream",
     "text": [
      "C:\\Users\\rahsood\\AppData\\Local\\Continuum\\Anaconda3\\lib\\site-packages\\h5py\\__init__.py:34: FutureWarning: Conversion of the second argument of issubdtype from `float` to `np.floating` is deprecated. In future, it will be treated as `np.float64 == np.dtype(float).type`.\n",
      "  from ._conv import register_converters as _register_converters\n"
     ]
    }
   ],
   "source": [
    "import tensorflow as tf"
   ]
  },
  {
   "cell_type": "code",
   "execution_count": 4,
   "metadata": {},
   "outputs": [
    {
     "name": "stderr",
     "output_type": "stream",
     "text": [
      "Using TensorFlow backend.\n"
     ]
    }
   ],
   "source": [
    "from feature_extractor import FeatureExtractor"
   ]
  },
  {
   "cell_type": "code",
   "execution_count": 5,
   "metadata": {
    "collapsed": true
   },
   "outputs": [],
   "source": [
    "fe = FeatureExtractor()\n",
    "# This step downloads the .h5 file:\n",
    "# Downloading data from https://github.com/fchollet/deep-learning-models/releases/download/v0.1/vgg16_weights_tf_dim_ordering_tf_kernels.h5\n",
    "# 427769856/553467096 [======================>.......] - ETA: 2:26"
   ]
  },
  {
   "cell_type": "code",
   "execution_count": 6,
   "metadata": {},
   "outputs": [
    {
     "name": "stdout",
     "output_type": "stream",
     "text": [
      "img\\2127.jpg\n",
      "img\\2131.jpg\n",
      "img\\2134.jpg\n",
      "img\\2135.jpg\n",
      "img\\2137.jpg\n",
      "img\\2138.jpg\n",
      "img\\2139.jpg\n",
      "img\\2140.jpg\n",
      "img\\2239.jpg\n",
      "img\\2241.jpg\n",
      "img\\2242.jpg\n"
     ]
    }
   ],
   "source": [
    "for img_path in sorted(glob.glob('img/*.jpg')):\n",
    "    print(img_path)\n",
    "    img = Image.open(img_path)  # PIL image\n",
    "    feature = fe.extract(img)\n",
    "    feature_path = 'img/' + os.path.splitext(os.path.basename(img_path))[0] + '.pkl'\n",
    "    pickle.dump(feature, open(feature_path, 'wb'))"
   ]
  },
  {
   "cell_type": "code",
   "execution_count": 7,
   "metadata": {},
   "outputs": [
    {
     "name": "stdout",
     "output_type": "stream",
     "text": [
      "<class 'numpy.ndarray'>\n",
      "(4096,)\n"
     ]
    }
   ],
   "source": [
    "# TEST INDIVIDUAL BLOCK OF CODE\n",
    "img = Image.open(\"img/2135.jpg\")  # PIL image\n",
    "# uploaded_img_path = \"static/uploaded/\" + datetime.now().isoformat() + \"_\" + file.filename\n",
    "# img.save(uploaded_img_path)\n",
    "\n",
    "query = fe.extract(img)\n",
    "print(type(query))\n",
    "print(np.shape(query))"
   ]
  },
  {
   "cell_type": "code",
   "execution_count": 8,
   "metadata": {
    "collapsed": true
   },
   "outputs": [],
   "source": [
    "vec1 = fe.extract(Image.open(\"img/2135.jpg\"))"
   ]
  },
  {
   "cell_type": "code",
   "execution_count": 9,
   "metadata": {},
   "outputs": [
    {
     "data": {
      "text/plain": [
       "(4096,)"
      ]
     },
     "execution_count": 9,
     "metadata": {},
     "output_type": "execute_result"
    }
   ],
   "source": [
    "vec1.shape"
   ]
  },
  {
   "cell_type": "code",
   "execution_count": 10,
   "metadata": {},
   "outputs": [
    {
     "data": {
      "text/plain": [
       "array([0.        , 0.        , 0.        , ..., 0.        , 0.        ,\n",
       "       0.04746252], dtype=float32)"
      ]
     },
     "execution_count": 10,
     "metadata": {},
     "output_type": "execute_result"
    }
   ],
   "source": [
    "vec2 = fe.extract(Image.open(\"img/2137.jpg\"))\n",
    "vec2"
   ]
  },
  {
   "cell_type": "code",
   "execution_count": 11,
   "metadata": {},
   "outputs": [
    {
     "data": {
      "text/plain": [
       "array([1.        , 2.        , 3.        , ..., 0.        , 0.        ,\n",
       "       0.04746252], dtype=float32)"
      ]
     },
     "execution_count": 11,
     "metadata": {},
     "output_type": "execute_result"
    }
   ],
   "source": [
    "vec2[0] = 1\n",
    "vec2[1] = 2\n",
    "vec2[2] = 3\n",
    "vec2"
   ]
  },
  {
   "cell_type": "code",
   "execution_count": 15,
   "metadata": {
    "collapsed": true
   },
   "outputs": [],
   "source": [
    "vec_new = np.concatenate((vec1, vec2), axis=0)"
   ]
  },
  {
   "cell_type": "code",
   "execution_count": 16,
   "metadata": {},
   "outputs": [
    {
     "data": {
      "text/plain": [
       "(8192,)"
      ]
     },
     "execution_count": 16,
     "metadata": {},
     "output_type": "execute_result"
    }
   ],
   "source": [
    "vec_new.shape"
   ]
  },
  {
   "cell_type": "code",
   "execution_count": 17,
   "metadata": {},
   "outputs": [
    {
     "name": "stdout",
     "output_type": "stream",
     "text": [
      "[0. 0. 0.] [1. 2. 3.]\n"
     ]
    }
   ],
   "source": [
    "print(vec_new[0:3],vec_new[4096:4099])"
   ]
  },
  {
   "cell_type": "code",
   "execution_count": 12,
   "metadata": {
    "collapsed": true
   },
   "outputs": [],
   "source": [
    "import pandas as pd\n",
    "df_cars = pd.read_csv(\"D:/Users/rahsood/Downloads/transformers-prebucketing-10k-fixed-10k-production-batch-results-2019-08-22T12-57-21.csv\")"
   ]
  },
  {
   "cell_type": "code",
   "execution_count": 13,
   "metadata": {},
   "outputs": [
    {
     "data": {
      "text/plain": [
       "Index(['createdAt', 'id', 'inputRecord/createdAt',\n",
       "       'inputRecord/data/BodyTypeCode', 'inputRecord/data/StockNumber',\n",
       "       'inputRecord/data/url01', 'inputRecord/data/url02',\n",
       "       'inputRecord/data/url03', 'inputRecord/data/url04',\n",
       "       'inputRecord/data/url05', 'inputRecord/data/url06',\n",
       "       'inputRecord/data/url07', 'inputRecord/data/url08',\n",
       "       'inputRecord/data/url09', 'inputRecord/data/url10', 'inputRecord/id',\n",
       "       'resultData/1_comments', 'resultData/1_damageLocation/0',\n",
       "       'resultData/1_damageLocation/1', 'resultData/1_damageLocation/2',\n",
       "       'resultData/1_damageLocation/3', 'resultData/1_damageLocation/4',\n",
       "       'resultData/1_damageLocation/5', 'resultData/1_scale',\n",
       "       'resultData/1_visibleDamage', 'resultData/2_comments',\n",
       "       'resultData/2_damageLocation/0', 'resultData/2_damageLocation/1',\n",
       "       'resultData/2_damageLocation/2', 'resultData/2_damageLocation/3',\n",
       "       'resultData/2_damageLocation/4', 'resultData/2_damageLocation/5',\n",
       "       'resultData/2_scale', 'resultData/2_visibleDamage',\n",
       "       'resultData/BodyTypeCode', 'resultData/StockNumber',\n",
       "       'resultData/qc_comments', 'resultData/qc_damageLocation/0',\n",
       "       'resultData/qc_damageLocation/1', 'resultData/qc_damageLocation/2',\n",
       "       'resultData/qc_damageLocation/3', 'resultData/qc_damageLocation/4',\n",
       "       'resultData/qc_damageLocation/5', 'resultData/qc_scale',\n",
       "       'resultData/qc_visibleDamage', 'resultData/url01', 'resultData/url02',\n",
       "       'resultData/url03', 'resultData/url04', 'resultData/url05',\n",
       "       'resultData/url06', 'resultData/url07', 'resultData/url08',\n",
       "       'resultData/url09', 'resultData/url10'],\n",
       "      dtype='object')"
      ]
     },
     "execution_count": 13,
     "metadata": {},
     "output_type": "execute_result"
    }
   ],
   "source": [
    "df_cars.columns"
   ]
  },
  {
   "cell_type": "code",
   "execution_count": 14,
   "metadata": {
    "collapsed": true
   },
   "outputs": [],
   "source": [
    "df_cars.drop(columns=['inputRecord/id',\n",
    "       'resultData/1_comments', 'resultData/1_damageLocation/0',\n",
    "       'resultData/1_damageLocation/1', 'resultData/1_damageLocation/2',\n",
    "       'resultData/1_damageLocation/3', 'resultData/1_damageLocation/4',\n",
    "       'resultData/1_damageLocation/5', 'resultData/1_scale',\n",
    "       'resultData/1_visibleDamage', 'resultData/2_comments',\n",
    "       'resultData/2_damageLocation/0', 'resultData/2_damageLocation/1',\n",
    "       'resultData/2_damageLocation/2', 'resultData/2_damageLocation/3',\n",
    "       'resultData/2_damageLocation/4', 'resultData/2_damageLocation/5',\n",
    "       'resultData/2_scale', 'resultData/BodyTypeCode',\n",
    "       'resultData/StockNumber', 'resultData/qc_comments','resultData/2_visibleDamage', 'resultData/qc_visibleDamage', 'resultData/url01', 'resultData/url02',\n",
    "       'resultData/url03', 'resultData/url04', 'resultData/url05',\n",
    "       'resultData/url06', 'resultData/url07', 'resultData/url08',\n",
    "       'resultData/url09', 'resultData/url10'], axis=1, inplace=True)"
   ]
  },
  {
   "cell_type": "code",
   "execution_count": 15,
   "metadata": {},
   "outputs": [
    {
     "data": {
      "text/plain": [
       "0    25607745\n",
       "1    25655579\n",
       "2    25583256\n",
       "3    25638489\n",
       "4    25644525\n",
       "Name: inputRecord/data/StockNumber, dtype: int64"
      ]
     },
     "execution_count": 15,
     "metadata": {},
     "output_type": "execute_result"
    }
   ],
   "source": [
    "df_cars['inputRecord/data/StockNumber'].head()"
   ]
  },
  {
   "cell_type": "code",
   "execution_count": 16,
   "metadata": {
    "collapsed": true
   },
   "outputs": [],
   "source": [
    "df_cars.rename(columns={'inputRecord/data/BodyTypeCode':'BodyTypeCode', \n",
    "                    'inputRecord/data/StockNumber':'StockNumber', \n",
    "                    'resultData/qc_scale':'Grade'}, inplace=True)"
   ]
  },
  {
   "cell_type": "code",
   "execution_count": 17,
   "metadata": {
    "collapsed": true
   },
   "outputs": [],
   "source": [
    "df_cars.rename(columns={'inputRecord/data/url01':'url01', 'inputRecord/data/url02':'url02', \\\n",
    "                    'inputRecord/data/url03':'url03', 'inputRecord/data/url04':'url04', \\\n",
    "                    'inputRecord/data/url05':'url05', 'inputRecord/data/url06':'url06', \\\n",
    "                   'inputRecord/data/url07':'url07', 'inputRecord/data/url08':'url08', \\\n",
    "                    'inputRecord/data/url09':'url09', 'inputRecord/data/url10':'url10'}, inplace=True)"
   ]
  },
  {
   "cell_type": "code",
   "execution_count": 18,
   "metadata": {
    "collapsed": true
   },
   "outputs": [],
   "source": [
    "df_cars.rename(columns={'resultData/qc_damageLocation/0':'dmgLoc0', 'resultData/qc_damageLocation/1':'dmgLoc1',\n",
    "                    'resultData/qc_damageLocation/2':'dmgLoc2', 'resultData/qc_damageLocation/3':'dmgLoc3',\n",
    "                    'resultData/qc_damageLocation/4':'dmgLoc4', 'resultData/qc_damageLocation/5':'dmgLoc5'}, inplace=True)"
   ]
  },
  {
   "cell_type": "code",
   "execution_count": 19,
   "metadata": {},
   "outputs": [
    {
     "data": {
      "text/plain": [
       "Index(['createdAt', 'id', 'inputRecord/createdAt', 'BodyTypeCode',\n",
       "       'StockNumber', 'url01', 'url02', 'url03', 'url04', 'url05', 'url06',\n",
       "       'url07', 'url08', 'url09', 'url10', 'dmgLoc0', 'dmgLoc1', 'dmgLoc2',\n",
       "       'dmgLoc3', 'dmgLoc4', 'dmgLoc5', 'Grade'],\n",
       "      dtype='object')"
      ]
     },
     "execution_count": 19,
     "metadata": {},
     "output_type": "execute_result"
    }
   ],
   "source": [
    "df_cars.columns"
   ]
  },
  {
   "cell_type": "code",
   "execution_count": 20,
   "metadata": {
    "collapsed": true
   },
   "outputs": [],
   "source": [
    "df_cars.drop(columns=['url01', 'url02', 'url03', 'url04', 'url05', 'url06',\n",
    "       'url07', 'url08', 'url09', 'url10'], axis=1, inplace=True)"
   ]
  },
  {
   "cell_type": "code",
   "execution_count": 21,
   "metadata": {},
   "outputs": [
    {
     "data": {
      "text/plain": [
       "Index(['createdAt', 'id', 'inputRecord/createdAt', 'BodyTypeCode',\n",
       "       'StockNumber', 'dmgLoc0', 'dmgLoc1', 'dmgLoc2', 'dmgLoc3', 'dmgLoc4',\n",
       "       'dmgLoc5', 'Grade'],\n",
       "      dtype='object')"
      ]
     },
     "execution_count": 21,
     "metadata": {},
     "output_type": "execute_result"
    }
   ],
   "source": [
    "df_cars.columns"
   ]
  },
  {
   "cell_type": "code",
   "execution_count": 22,
   "metadata": {},
   "outputs": [
    {
     "data": {
      "text/html": [
       "<div>\n",
       "<style scoped>\n",
       "    .dataframe tbody tr th:only-of-type {\n",
       "        vertical-align: middle;\n",
       "    }\n",
       "\n",
       "    .dataframe tbody tr th {\n",
       "        vertical-align: top;\n",
       "    }\n",
       "\n",
       "    .dataframe thead th {\n",
       "        text-align: right;\n",
       "    }\n",
       "</style>\n",
       "<table border=\"1\" class=\"dataframe\">\n",
       "  <thead>\n",
       "    <tr style=\"text-align: right;\">\n",
       "      <th></th>\n",
       "      <th>createdAt</th>\n",
       "      <th>id</th>\n",
       "      <th>inputRecord/createdAt</th>\n",
       "      <th>BodyTypeCode</th>\n",
       "      <th>StockNumber</th>\n",
       "      <th>dmgLoc0</th>\n",
       "      <th>dmgLoc1</th>\n",
       "      <th>dmgLoc2</th>\n",
       "      <th>dmgLoc3</th>\n",
       "      <th>dmgLoc4</th>\n",
       "      <th>dmgLoc5</th>\n",
       "      <th>Grade</th>\n",
       "    </tr>\n",
       "  </thead>\n",
       "  <tbody>\n",
       "    <tr>\n",
       "      <th>0</th>\n",
       "      <td>2019-08-21T08:56:30.563Z</td>\n",
       "      <td>03916647-d49c-4485-9165-383e1d88659a</td>\n",
       "      <td>2019-08-10T15:23:05.770Z</td>\n",
       "      <td>VN</td>\n",
       "      <td>25607745</td>\n",
       "      <td>Front</td>\n",
       "      <td>Driver</td>\n",
       "      <td>Passenger</td>\n",
       "      <td>Rear</td>\n",
       "      <td>Interior</td>\n",
       "      <td>Roof</td>\n",
       "      <td>1</td>\n",
       "    </tr>\n",
       "    <tr>\n",
       "      <th>1</th>\n",
       "      <td>2019-08-21T08:54:57.928Z</td>\n",
       "      <td>c384d9ae-9e4a-473c-84cb-791a7c27e45a</td>\n",
       "      <td>2019-08-10T15:23:05.771Z</td>\n",
       "      <td>4H</td>\n",
       "      <td>25655579</td>\n",
       "      <td>Front</td>\n",
       "      <td>Driver</td>\n",
       "      <td>NaN</td>\n",
       "      <td>NaN</td>\n",
       "      <td>NaN</td>\n",
       "      <td>NaN</td>\n",
       "      <td>4</td>\n",
       "    </tr>\n",
       "    <tr>\n",
       "      <th>2</th>\n",
       "      <td>2019-08-21T08:54:46.680Z</td>\n",
       "      <td>bea767e9-db9a-4f8e-94a3-d9a71bd74137</td>\n",
       "      <td>2019-08-10T15:23:05.770Z</td>\n",
       "      <td>VN</td>\n",
       "      <td>25583256</td>\n",
       "      <td>Front</td>\n",
       "      <td>Rear</td>\n",
       "      <td>NaN</td>\n",
       "      <td>NaN</td>\n",
       "      <td>NaN</td>\n",
       "      <td>NaN</td>\n",
       "      <td>3</td>\n",
       "    </tr>\n",
       "    <tr>\n",
       "      <th>3</th>\n",
       "      <td>2019-08-21T08:54:40.145Z</td>\n",
       "      <td>fc1f75b9-a349-47fd-a18f-0745d2373ef0</td>\n",
       "      <td>2019-08-10T15:23:05.771Z</td>\n",
       "      <td>4C</td>\n",
       "      <td>25638489</td>\n",
       "      <td>Front</td>\n",
       "      <td>Driver</td>\n",
       "      <td>Interior</td>\n",
       "      <td>NaN</td>\n",
       "      <td>NaN</td>\n",
       "      <td>NaN</td>\n",
       "      <td>2</td>\n",
       "    </tr>\n",
       "    <tr>\n",
       "      <th>4</th>\n",
       "      <td>2019-08-21T08:54:13.670Z</td>\n",
       "      <td>4eec7916-db32-485b-974d-89f831f3786d</td>\n",
       "      <td>2019-08-10T15:23:05.771Z</td>\n",
       "      <td>VN</td>\n",
       "      <td>25644525</td>\n",
       "      <td>Front</td>\n",
       "      <td>Driver</td>\n",
       "      <td>Passenger</td>\n",
       "      <td>Rear</td>\n",
       "      <td>Interior</td>\n",
       "      <td>Roof</td>\n",
       "      <td>1</td>\n",
       "    </tr>\n",
       "  </tbody>\n",
       "</table>\n",
       "</div>"
      ],
      "text/plain": [
       "                  createdAt                                    id  \\\n",
       "0  2019-08-21T08:56:30.563Z  03916647-d49c-4485-9165-383e1d88659a   \n",
       "1  2019-08-21T08:54:57.928Z  c384d9ae-9e4a-473c-84cb-791a7c27e45a   \n",
       "2  2019-08-21T08:54:46.680Z  bea767e9-db9a-4f8e-94a3-d9a71bd74137   \n",
       "3  2019-08-21T08:54:40.145Z  fc1f75b9-a349-47fd-a18f-0745d2373ef0   \n",
       "4  2019-08-21T08:54:13.670Z  4eec7916-db32-485b-974d-89f831f3786d   \n",
       "\n",
       "      inputRecord/createdAt BodyTypeCode  StockNumber dmgLoc0 dmgLoc1  \\\n",
       "0  2019-08-10T15:23:05.770Z           VN     25607745   Front  Driver   \n",
       "1  2019-08-10T15:23:05.771Z           4H     25655579   Front  Driver   \n",
       "2  2019-08-10T15:23:05.770Z           VN     25583256   Front    Rear   \n",
       "3  2019-08-10T15:23:05.771Z           4C     25638489   Front  Driver   \n",
       "4  2019-08-10T15:23:05.771Z           VN     25644525   Front  Driver   \n",
       "\n",
       "     dmgLoc2 dmgLoc3   dmgLoc4 dmgLoc5  Grade  \n",
       "0  Passenger    Rear  Interior    Roof      1  \n",
       "1        NaN     NaN       NaN     NaN      4  \n",
       "2        NaN     NaN       NaN     NaN      3  \n",
       "3   Interior     NaN       NaN     NaN      2  \n",
       "4  Passenger    Rear  Interior    Roof      1  "
      ]
     },
     "execution_count": 22,
     "metadata": {},
     "output_type": "execute_result"
    }
   ],
   "source": [
    "df_cars.head()"
   ]
  },
  {
   "cell_type": "code",
   "execution_count": 23,
   "metadata": {
    "collapsed": true
   },
   "outputs": [],
   "source": [
    "a = pd.DataFrame()\n",
    "b = pd.DataFrame()\n",
    "# c = pd.concat(a,b) # errors out:\n",
    "# TypeError: first argument must be an iterable of pandas objects, you passed an object of type \"DataFrame\"\n",
    "\n",
    "c = pd.concat([a,b]) # works."
   ]
  },
  {
   "cell_type": "code",
   "execution_count": 24,
   "metadata": {
    "collapsed": true
   },
   "outputs": [],
   "source": [
    "df_cars_train = pd.DataFrame()\n",
    "for grade in range(0,6):\n",
    "    df = df_cars[df_cars['Grade']==grade].sample(n = 100, random_state = 2) \n",
    "    df_cars_train = pd.concat([df_cars_train, df])"
   ]
  },
  {
   "cell_type": "code",
   "execution_count": 25,
   "metadata": {},
   "outputs": [
    {
     "data": {
      "text/plain": [
       "5    100\n",
       "4    100\n",
       "3    100\n",
       "2    100\n",
       "1    100\n",
       "0    100\n",
       "Name: Grade, dtype: int64"
      ]
     },
     "execution_count": 25,
     "metadata": {},
     "output_type": "execute_result"
    }
   ],
   "source": [
    "df_cars_train['Grade'].value_counts()"
   ]
  },
  {
   "cell_type": "code",
   "execution_count": 26,
   "metadata": {},
   "outputs": [
    {
     "data": {
      "text/html": [
       "<div>\n",
       "<style scoped>\n",
       "    .dataframe tbody tr th:only-of-type {\n",
       "        vertical-align: middle;\n",
       "    }\n",
       "\n",
       "    .dataframe tbody tr th {\n",
       "        vertical-align: top;\n",
       "    }\n",
       "\n",
       "    .dataframe thead th {\n",
       "        text-align: right;\n",
       "    }\n",
       "</style>\n",
       "<table border=\"1\" class=\"dataframe\">\n",
       "  <thead>\n",
       "    <tr style=\"text-align: right;\">\n",
       "      <th></th>\n",
       "      <th>StockNumber</th>\n",
       "      <th>Grade</th>\n",
       "    </tr>\n",
       "  </thead>\n",
       "  <tbody>\n",
       "    <tr>\n",
       "      <th>587</th>\n",
       "      <td>25684688</td>\n",
       "      <td>5</td>\n",
       "    </tr>\n",
       "    <tr>\n",
       "      <th>9640</th>\n",
       "      <td>23697818</td>\n",
       "      <td>5</td>\n",
       "    </tr>\n",
       "    <tr>\n",
       "      <th>9420</th>\n",
       "      <td>23927627</td>\n",
       "      <td>5</td>\n",
       "    </tr>\n",
       "    <tr>\n",
       "      <th>866</th>\n",
       "      <td>25492392</td>\n",
       "      <td>5</td>\n",
       "    </tr>\n",
       "    <tr>\n",
       "      <th>3804</th>\n",
       "      <td>25635164</td>\n",
       "      <td>5</td>\n",
       "    </tr>\n",
       "  </tbody>\n",
       "</table>\n",
       "</div>"
      ],
      "text/plain": [
       "      StockNumber  Grade\n",
       "587      25684688      5\n",
       "9640     23697818      5\n",
       "9420     23927627      5\n",
       "866      25492392      5\n",
       "3804     25635164      5"
      ]
     },
     "execution_count": 26,
     "metadata": {},
     "output_type": "execute_result"
    }
   ],
   "source": [
    "df_cars_train[['StockNumber','Grade']].tail()"
   ]
  },
  {
   "cell_type": "code",
   "execution_count": 27,
   "metadata": {},
   "outputs": [
    {
     "data": {
      "text/html": [
       "<div>\n",
       "<style scoped>\n",
       "    .dataframe tbody tr th:only-of-type {\n",
       "        vertical-align: middle;\n",
       "    }\n",
       "\n",
       "    .dataframe tbody tr th {\n",
       "        vertical-align: top;\n",
       "    }\n",
       "\n",
       "    .dataframe thead th {\n",
       "        text-align: right;\n",
       "    }\n",
       "</style>\n",
       "<table border=\"1\" class=\"dataframe\">\n",
       "  <thead>\n",
       "    <tr style=\"text-align: right;\">\n",
       "      <th></th>\n",
       "      <th>StockNumber</th>\n",
       "      <th>Grade</th>\n",
       "    </tr>\n",
       "  </thead>\n",
       "  <tbody>\n",
       "    <tr>\n",
       "      <th>5064</th>\n",
       "      <td>25014225</td>\n",
       "      <td>0</td>\n",
       "    </tr>\n",
       "    <tr>\n",
       "      <th>6238</th>\n",
       "      <td>24205665</td>\n",
       "      <td>0</td>\n",
       "    </tr>\n",
       "    <tr>\n",
       "      <th>7081</th>\n",
       "      <td>24027197</td>\n",
       "      <td>0</td>\n",
       "    </tr>\n",
       "    <tr>\n",
       "      <th>2829</th>\n",
       "      <td>24563390</td>\n",
       "      <td>0</td>\n",
       "    </tr>\n",
       "    <tr>\n",
       "      <th>3741</th>\n",
       "      <td>24431341</td>\n",
       "      <td>0</td>\n",
       "    </tr>\n",
       "  </tbody>\n",
       "</table>\n",
       "</div>"
      ],
      "text/plain": [
       "      StockNumber  Grade\n",
       "5064     25014225      0\n",
       "6238     24205665      0\n",
       "7081     24027197      0\n",
       "2829     24563390      0\n",
       "3741     24431341      0"
      ]
     },
     "execution_count": 27,
     "metadata": {},
     "output_type": "execute_result"
    }
   ],
   "source": [
    "df_cars_train[['StockNumber','Grade']].head()"
   ]
  },
  {
   "cell_type": "code",
   "execution_count": 28,
   "metadata": {
    "collapsed": true
   },
   "outputs": [],
   "source": [
    "df_cars_train = df_cars_train.sample(frac=1).reset_index(drop=True)"
   ]
  },
  {
   "cell_type": "code",
   "execution_count": 29,
   "metadata": {},
   "outputs": [
    {
     "data": {
      "text/html": [
       "<div>\n",
       "<style scoped>\n",
       "    .dataframe tbody tr th:only-of-type {\n",
       "        vertical-align: middle;\n",
       "    }\n",
       "\n",
       "    .dataframe tbody tr th {\n",
       "        vertical-align: top;\n",
       "    }\n",
       "\n",
       "    .dataframe thead th {\n",
       "        text-align: right;\n",
       "    }\n",
       "</style>\n",
       "<table border=\"1\" class=\"dataframe\">\n",
       "  <thead>\n",
       "    <tr style=\"text-align: right;\">\n",
       "      <th></th>\n",
       "      <th>StockNumber</th>\n",
       "      <th>Grade</th>\n",
       "    </tr>\n",
       "  </thead>\n",
       "  <tbody>\n",
       "    <tr>\n",
       "      <th>0</th>\n",
       "      <td>24214918</td>\n",
       "      <td>4</td>\n",
       "    </tr>\n",
       "    <tr>\n",
       "      <th>1</th>\n",
       "      <td>24900394</td>\n",
       "      <td>4</td>\n",
       "    </tr>\n",
       "    <tr>\n",
       "      <th>2</th>\n",
       "      <td>24337626</td>\n",
       "      <td>5</td>\n",
       "    </tr>\n",
       "    <tr>\n",
       "      <th>3</th>\n",
       "      <td>24768596</td>\n",
       "      <td>3</td>\n",
       "    </tr>\n",
       "    <tr>\n",
       "      <th>4</th>\n",
       "      <td>24803130</td>\n",
       "      <td>1</td>\n",
       "    </tr>\n",
       "  </tbody>\n",
       "</table>\n",
       "</div>"
      ],
      "text/plain": [
       "   StockNumber  Grade\n",
       "0     24214918      4\n",
       "1     24900394      4\n",
       "2     24337626      5\n",
       "3     24768596      3\n",
       "4     24803130      1"
      ]
     },
     "execution_count": 29,
     "metadata": {},
     "output_type": "execute_result"
    }
   ],
   "source": [
    "df_cars_train[['StockNumber','Grade']].head()"
   ]
  },
  {
   "cell_type": "code",
   "execution_count": 30,
   "metadata": {},
   "outputs": [
    {
     "data": {
      "text/plain": [
       "5    100\n",
       "4    100\n",
       "3    100\n",
       "2    100\n",
       "1    100\n",
       "0    100\n",
       "Name: Grade, dtype: int64"
      ]
     },
     "execution_count": 30,
     "metadata": {},
     "output_type": "execute_result"
    }
   ],
   "source": [
    "df_cars_train['Grade'].value_counts()"
   ]
  },
  {
   "cell_type": "code",
   "execution_count": 31,
   "metadata": {},
   "outputs": [
    {
     "data": {
      "text/plain": [
       "600"
      ]
     },
     "execution_count": 31,
     "metadata": {},
     "output_type": "execute_result"
    }
   ],
   "source": [
    "len(df_cars_train)"
   ]
  },
  {
   "cell_type": "code",
   "execution_count": 120,
   "metadata": {
    "collapsed": true
   },
   "outputs": [],
   "source": [
    "vec0 = np.ndarray((0,))\n",
    "vec01 = np.concatenate((vec0, vec1))"
   ]
  },
  {
   "cell_type": "code",
   "execution_count": 139,
   "metadata": {
    "collapsed": true
   },
   "outputs": [],
   "source": [
    "vecA = np.zeros((4096,))"
   ]
  },
  {
   "cell_type": "code",
   "execution_count": 121,
   "metadata": {},
   "outputs": [
    {
     "data": {
      "text/plain": [
       "(4096,)"
      ]
     },
     "execution_count": 121,
     "metadata": {},
     "output_type": "execute_result"
    }
   ],
   "source": [
    "np.shape(vec01)"
   ]
  },
  {
   "cell_type": "markdown",
   "metadata": {},
   "source": [
    "## Saving as a Dictionary of Vectors"
   ]
  },
  {
   "cell_type": "code",
   "execution_count": 33,
   "metadata": {},
   "outputs": [
    {
     "name": "stdout",
     "output_type": "stream",
     "text": [
      "Error Count3\n"
     ]
    }
   ],
   "source": [
    "err_count = 3\n",
    "print('Error Count' + str(err_count))"
   ]
  },
  {
   "cell_type": "code",
   "execution_count": 34,
   "metadata": {},
   "outputs": [
    {
     "name": "stdout",
     "output_type": "stream",
     "text": [
      "..processing 24214918\n",
      "4\n",
      "..processing 24900394\n",
      "4\n",
      "..processing 24337626\n",
      "5\n",
      "..processing 24768596\n",
      "3\n",
      "..processing 24803130\n",
      "1\n",
      "..processing 23769812\n",
      "5\n",
      "..processing 24282878\n",
      "2\n",
      "..processing 23903697\n",
      "5\n",
      "..processing 24217807\n",
      "4\n",
      "..processing 23865649\n",
      "1\n",
      "..processing 24615155\n",
      "2\n",
      "..processing 24644204\n",
      "0\n",
      "..processing 25530173\n",
      "1\n",
      "..processing 25615200\n",
      "5\n",
      "..processing 24415917\n",
      "2\n",
      "..processing 25580006\n",
      "5\n",
      "..processing 24529485\n",
      "0\n",
      "..processing 24146452\n",
      "4\n",
      "Error for D:/IAA/data/images/dataset/4/24146452/url06.jpg\n",
      "..processing 24448909\n",
      "3\n",
      "..processing 23664696\n",
      "4\n",
      "Error for D:/IAA/data/images/dataset/4/23664696/url01.jpg\n",
      "..processing 25525493\n",
      "5\n",
      "Error for D:/IAA/data/images/dataset/5/25525493/url04.jpg\n",
      "..processing 25080244\n",
      "1\n",
      "..processing 24605740\n",
      "2\n",
      "..processing 24291857\n",
      "5\n",
      "Error for D:/IAA/data/images/dataset/5/24291857/url03.jpg\n",
      "..processing 25163335\n",
      "0\n",
      "..processing 24324896\n",
      "0\n",
      "..processing 24717055\n",
      "4\n",
      "..processing 24838651\n",
      "5\n",
      "..processing 25060780\n",
      "5\n",
      "..processing 23741357\n",
      "5\n",
      "..processing 24017360\n",
      "1\n",
      "..processing 24477310\n",
      "0\n",
      "..processing 25592331\n",
      "5\n",
      "..processing 24212463\n",
      "3\n",
      "..processing 24206606\n",
      "4\n",
      "..processing 24074222\n",
      "3\n",
      "..processing 24066510\n",
      "1\n",
      "..processing 24085627\n",
      "4\n",
      "..processing 24526310\n",
      "4\n",
      "..processing 23891252\n",
      "0\n",
      "Error for D:/IAA/data/images/dataset/0/23891252/url02.jpg\n",
      "..processing 25372350\n",
      "1\n",
      "..processing 24072243\n",
      "3\n",
      "..processing 24380913\n",
      "4\n",
      "..processing 23996486\n",
      "2\n",
      "..processing 24172981\n",
      "5\n",
      "..processing 25589031\n",
      "0\n",
      "..processing 24412359\n",
      "1\n",
      "..processing 24265273\n",
      "2\n",
      "..processing 24463342\n",
      "4\n",
      "..processing 23793579\n",
      "0\n",
      "Error for D:/IAA/data/images/dataset/0/23793579/url06.jpg\n",
      "..processing 24769257\n",
      "5\n",
      "..processing 25311486\n",
      "2\n",
      "..processing 23674850\n",
      "4\n",
      "..processing 24569943\n",
      "2\n",
      "..processing 24650169\n",
      "3\n",
      "Error for D:/IAA/data/images/dataset/3/24650169/url01.jpg\n",
      "..processing 24013992\n",
      "5\n",
      "..processing 24687482\n",
      "3\n",
      "Error for D:/IAA/data/images/dataset/3/24687482/url01.jpg\n",
      "..processing 24637920\n",
      "3\n",
      "..processing 25228108\n",
      "5\n",
      "..processing 24007042\n",
      "4\n",
      "..processing 23704706\n",
      "4\n",
      "..processing 24335826\n",
      "2\n",
      "..processing 23962143\n",
      "3\n",
      "..processing 24050860\n",
      "5\n",
      "..processing 24168548\n",
      "5\n",
      "..processing 23703576\n",
      "2\n",
      "Error for D:/IAA/data/images/dataset/2/23703576/url01.jpg\n",
      "..processing 25664901\n",
      "4\n",
      "..processing 24233730\n",
      "4\n",
      "..processing 23668346\n",
      "1\n",
      "..processing 24640319\n",
      "0\n",
      "..processing 24476816\n",
      "2\n",
      "Error for D:/IAA/data/images/dataset/2/24476816/url01.jpg\n",
      "..processing 24171578\n",
      "3\n",
      "..processing 25496451\n",
      "2\n",
      "..processing 25521007\n",
      "3\n",
      "..processing 24956340\n",
      "5\n",
      "..processing 24024569\n",
      "0\n",
      "..processing 23606095\n",
      "3\n",
      "..processing 24642403\n",
      "3\n",
      "..processing 24688166\n",
      "1\n",
      "..processing 24576248\n",
      "5\n",
      "..processing 24319324\n",
      "0\n",
      "..processing 24758821\n",
      "4\n",
      "Error for D:/IAA/data/images/dataset/4/24758821/url05.jpg\n",
      "..processing 24542018\n",
      "2\n",
      "..processing 24094312\n",
      "1\n",
      "..processing 24372948\n",
      "3\n",
      "Error for D:/IAA/data/images/dataset/3/24372948/url01.jpg\n",
      "..processing 24064727\n",
      "2\n",
      "..processing 24524210\n",
      "5\n",
      "..processing 25157840\n",
      "1\n",
      "..processing 25619789\n",
      "0\n",
      "..processing 23831451\n",
      "2\n",
      "..processing 23580867\n",
      "2\n",
      "..processing 23596236\n",
      "1\n",
      "Error for D:/IAA/data/images/dataset/1/23596236/url03.jpg\n",
      "..processing 24156531\n",
      "4\n",
      "..processing 25706731\n",
      "1\n",
      "Error for D:/IAA/data/images/dataset/1/25706731/url04.jpg\n",
      "Error for D:/IAA/data/images/dataset/1/25706731/url05.jpg\n",
      "..processing 24769883\n",
      "3\n",
      "Error for D:/IAA/data/images/dataset/3/24769883/url06.jpg\n",
      "..processing 25130127\n",
      "1\n",
      "..processing 24228659\n",
      "0\n",
      "..processing 23848385\n",
      "0\n",
      "..processing 25582303\n",
      "4\n",
      "..processing 23967104\n",
      "2\n",
      "..processing 25543700\n",
      "3\n",
      "..processing 23961472\n",
      "0\n",
      "..processing 24653193\n",
      "5\n",
      "..processing 24061300\n",
      "5\n",
      "..processing 24737040\n",
      "3\n",
      "..processing 24357490\n",
      "2\n",
      "..processing 25169551\n",
      "2\n",
      "..processing 25159645\n",
      "0\n",
      "..processing 24087286\n",
      "5\n",
      "..processing 25683547\n",
      "0\n",
      "..processing 23939558\n",
      "0\n",
      "..processing 24719544\n",
      "1\n",
      "..processing 24964726\n",
      "3\n",
      "..processing 24484142\n",
      "0\n",
      "..processing 24796868\n",
      "1\n",
      "..processing 24878758\n",
      "3\n",
      "Error for D:/IAA/data/images/dataset/3/24878758/url04.jpg\n",
      "..processing 24280757\n",
      "5\n",
      "..processing 24177817\n",
      "5\n",
      "..processing 25544965\n",
      "5\n",
      "Error for D:/IAA/data/images/dataset/5/25544965/url06.jpg\n",
      "..processing 25163354\n",
      "4\n",
      "..processing 24079032\n",
      "4\n",
      "..processing 23944225\n",
      "5\n",
      "Error for D:/IAA/data/images/dataset/5/23944225/url05.jpg\n",
      "..processing 24007796\n",
      "3\n",
      "..processing 23927627\n",
      "5\n",
      "..processing 24740273\n",
      "1\n",
      "..processing 24239807\n",
      "1\n",
      "..processing 24972380\n",
      "1\n",
      "..processing 24995145\n",
      "2\n",
      "..processing 25632398\n",
      "0\n",
      "..processing 23941265\n",
      "3\n",
      "..processing 24124196\n",
      "0\n",
      "..processing 25562025\n",
      "1\n",
      "..processing 24590481\n",
      "1\n",
      "..processing 24206453\n",
      "2\n",
      "..processing 24161506\n",
      "2\n",
      "..processing 24789527\n",
      "4\n",
      "..processing 24332968\n",
      "1\n",
      "..processing 23957287\n",
      "5\n",
      "..processing 24198560\n",
      "4\n",
      "..processing 24308764\n",
      "1\n",
      "..processing 24472536\n",
      "3\n",
      "..processing 24252480\n",
      "3\n",
      "..processing 24160648\n",
      "2\n",
      "..processing 24126957\n",
      "4\n",
      "..processing 24542125\n",
      "4\n",
      "..processing 24104430\n",
      "2\n",
      "..processing 23914417\n",
      "0\n",
      "..processing 24647771\n",
      "4\n",
      "Error for D:/IAA/data/images/dataset/4/24647771/url04.jpg\n",
      "..processing 24054612\n",
      "1\n",
      "..processing 24200392\n",
      "1\n",
      "..processing 24433411\n",
      "3\n",
      "Error for D:/IAA/data/images/dataset/3/24433411/url05.jpg\n",
      "..processing 24406407\n",
      "4\n",
      "Error for D:/IAA/data/images/dataset/4/24406407/url02.jpg\n",
      "..processing 24668037\n",
      "1\n",
      "..processing 24638344\n",
      "5\n",
      "..processing 25400649\n",
      "2\n",
      "..processing 25401760\n",
      "1\n",
      "..processing 24012775\n",
      "0\n",
      "..processing 24361980\n",
      "1\n",
      "..processing 24633984\n",
      "3\n",
      "Error for D:/IAA/data/images/dataset/3/24633984/url03.jpg\n",
      "..processing 23908019\n",
      "5\n",
      "..processing 24985938\n",
      "2\n",
      "..processing 23661427\n",
      "4\n",
      "Error for D:/IAA/data/images/dataset/4/23661427/url04.jpg\n",
      "..processing 24450381\n",
      "5\n",
      "..processing 24904763\n",
      "1\n",
      "..processing 24900453\n",
      "1\n",
      "..processing 25305449\n",
      "4\n",
      "..processing 25281293\n",
      "4\n",
      "..processing 23569414\n",
      "4\n",
      "..processing 24434225\n",
      "1\n",
      "..processing 24113446\n",
      "5\n",
      "..processing 23566447\n",
      "2\n",
      "..processing 24740851\n",
      "4\n",
      "..processing 25368636\n",
      "0\n",
      "..processing 24508263\n",
      "5\n",
      "..processing 23890196\n",
      "2\n",
      "..processing 23968444\n",
      "5\n",
      "..processing 25271885\n",
      "1\n",
      "..processing 23776317\n",
      "1\n",
      "..processing 24162221\n",
      "2\n",
      "..processing 24027818\n",
      "1\n",
      "..processing 25353286\n",
      "0\n",
      "..processing 24690054\n",
      "2\n",
      "..processing 25595131\n",
      "3\n",
      "Error for D:/IAA/data/images/dataset/3/25595131/url05.jpg\n",
      "..processing 24791064\n",
      "1\n",
      "..processing 23899969\n",
      "0\n",
      "..processing 23748334\n",
      "2\n",
      "..processing 24519835\n",
      "0\n",
      "..processing 25621686\n",
      "1\n",
      "..processing 24720671\n",
      "1\n",
      "..processing 23878423\n",
      "3\n",
      "..processing 24193539\n",
      "4\n",
      "..processing 25552584\n",
      "3\n",
      "..processing 25561444\n",
      "4\n",
      "..processing 23879794\n",
      "2\n",
      "..processing 23656917\n",
      "1\n",
      "..processing 23931313\n",
      "3\n",
      "..processing 25597901\n",
      "0\n",
      "..processing 24077536\n",
      "1\n",
      "..processing 24027197\n",
      "0\n",
      "..processing 24833491\n",
      "4\n",
      "..processing 25376114\n",
      "3\n",
      "Error for D:/IAA/data/images/dataset/3/25376114/url06.jpg\n",
      "..processing 25472876\n",
      "3\n",
      "..processing 23955672\n",
      "0\n",
      "Error for D:/IAA/data/images/dataset/0/23955672/url04.jpg\n",
      "..processing 25400422\n",
      "0\n",
      "..processing 25493010\n",
      "4\n",
      "..processing 23957644\n",
      "0\n",
      "..processing 24572445\n",
      "2\n",
      "..processing 25014225\n",
      "0\n",
      "..processing 24727630\n",
      "4\n",
      "..processing 23963164\n",
      "3\n",
      "..processing 25479952\n",
      "5\n",
      "..processing 25622653\n",
      "5\n",
      "..processing 25014800\n",
      "0\n",
      "..processing 25602446\n",
      "4\n",
      "..processing 24120398\n",
      "3\n",
      "..processing 24690151\n",
      "4\n",
      "..processing 25335635\n",
      "5\n",
      "..processing 23586004\n",
      "4\n",
      "..processing 23812758\n",
      "5\n",
      "..processing 25635164\n",
      "5\n",
      "..processing 24684896\n",
      "0\n",
      "..processing 24999477\n",
      "2\n",
      "..processing 24596175\n",
      "4\n",
      "Error for D:/IAA/data/images/dataset/4/24596175/url01.jpg\n",
      "..processing 24260875\n",
      "0\n",
      "..processing 23595319\n",
      "0\n",
      "..processing 25205016\n",
      "2\n",
      "..processing 25050832\n",
      "5\n",
      "..processing 24677289\n",
      "4\n",
      "..processing 25374878\n",
      "3\n",
      "..processing 23635311\n",
      "1\n",
      "..processing 24255014\n",
      "5\n",
      "..processing 25156738\n",
      "5\n",
      "Error for D:/IAA/data/images/dataset/5/25156738/url03.jpg\n",
      "..processing 24223009\n",
      "0\n",
      "..processing 24269845\n",
      "2\n",
      "..processing 25488146\n",
      "3\n",
      "..processing 24903106\n",
      "1\n",
      "..processing 23880066\n",
      "2\n",
      "..processing 25437037\n",
      "5\n",
      "..processing 24815691\n",
      "3\n",
      "Error for D:/IAA/data/images/dataset/3/24815691/url05.jpg\n",
      "..processing 25173282\n",
      "5\n",
      "..processing 23822161\n",
      "5\n",
      "..processing 24336211\n",
      "2\n",
      "..processing 24604818\n",
      "1\n",
      "..processing 23963961\n",
      "1\n",
      "..processing 24165918\n",
      "5\n",
      "..processing 25084760\n",
      "1\n",
      "..processing 25379547\n",
      "0\n",
      "..processing 24485602\n",
      "5\n",
      "..processing 24517433\n",
      "3\n",
      "Error for D:/IAA/data/images/dataset/3/24517433/url03.jpg\n",
      "..processing 24435089\n",
      "5\n",
      "..processing 24982079\n",
      "4\n",
      "..processing 24255070\n",
      "0\n",
      "..processing 24316124\n",
      "0\n",
      "..processing 25370303\n",
      "4\n",
      "..processing 25565447\n",
      "3\n",
      "..processing 24221810\n",
      "3\n",
      "..processing 25480701\n",
      "4\n",
      "Error for D:/IAA/data/images/dataset/4/25480701/url05.jpg\n",
      "..processing 25324669\n",
      "0\n",
      "..processing 23911476\n",
      "3\n",
      "Error for D:/IAA/data/images/dataset/3/23911476/url04.jpg\n",
      "..processing 24886147\n",
      "3\n",
      "..processing 24933896\n",
      "1\n",
      "..processing 25474186\n",
      "0\n"
     ]
    },
    {
     "name": "stdout",
     "output_type": "stream",
     "text": [
      "..processing 25499183\n",
      "5\n",
      "..processing 23582599\n",
      "2\n",
      "..processing 23724222\n",
      "1\n",
      "..processing 25097726\n",
      "2\n",
      "..processing 24869762\n",
      "1\n",
      "..processing 25571105\n",
      "2\n",
      "..processing 24484244\n",
      "5\n",
      "..processing 25516954\n",
      "3\n",
      "..processing 24301206\n",
      "4\n",
      "..processing 25667497\n",
      "0\n",
      "..processing 24438134\n",
      "0\n",
      "..processing 24516381\n",
      "4\n",
      "..processing 24049361\n",
      "3\n",
      "..processing 25493171\n",
      "4\n",
      "..processing 24431341\n",
      "0\n",
      "..processing 25129469\n",
      "5\n",
      "..processing 25078595\n",
      "0\n",
      "..processing 24189853\n",
      "4\n",
      "..processing 24957491\n",
      "1\n",
      "Error for D:/IAA/data/images/dataset/1/24957491/url03.jpg\n",
      "..processing 25179043\n",
      "0\n",
      "Error for D:/IAA/data/images/dataset/0/25179043/url04.jpg\n",
      "..processing 25232462\n",
      "5\n",
      "..processing 24226893\n",
      "1\n",
      "..processing 24239310\n",
      "2\n",
      "..processing 23994172\n",
      "0\n",
      "..processing 25264190\n",
      "5\n",
      "Error for D:/IAA/data/images/dataset/5/25264190/url02.jpg\n",
      "..processing 25277877\n",
      "0\n",
      "..processing 24123846\n",
      "2\n",
      "..processing 23928075\n",
      "2\n",
      "..processing 23937316\n",
      "1\n",
      "..processing 24269755\n",
      "3\n",
      "..processing 24462487\n",
      "1\n",
      "Error for D:/IAA/data/images/dataset/1/24462487/url04.jpg\n",
      "..processing 24509546\n",
      "5\n",
      "..processing 25257069\n",
      "3\n",
      "..processing 23936387\n",
      "3\n",
      "..processing 23754367\n",
      "2\n",
      "..processing 25429856\n",
      "0\n",
      "..processing 24581630\n",
      "5\n",
      "..processing 25454955\n",
      "5\n",
      "..processing 25517449\n",
      "0\n",
      "..processing 24145962\n",
      "4\n",
      "..processing 23661898\n",
      "4\n",
      "..processing 24374989\n",
      "3\n",
      "..processing 23629806\n",
      "2\n",
      "..processing 23926982\n",
      "0\n",
      "..processing 24600699\n",
      "2\n",
      "..processing 24041754\n",
      "5\n",
      "..processing 23793741\n",
      "5\n",
      "Error for D:/IAA/data/images/dataset/5/23793741/url04.jpg\n",
      "..processing 24377006\n",
      "0\n",
      "..processing 24548992\n",
      "5\n",
      "..processing 24442802\n",
      "3\n",
      "..processing 25458326\n",
      "4\n",
      "Error for D:/IAA/data/images/dataset/4/25458326/url03.jpg\n",
      "..processing 25233341\n",
      "1\n",
      "..processing 25706727\n",
      "3\n",
      "..processing 25511703\n",
      "3\n",
      "..processing 23800009\n",
      "2\n",
      "Error for D:/IAA/data/images/dataset/2/23800009/url03.jpg\n",
      "..processing 24220512\n",
      "3\n",
      "..processing 25437044\n",
      "2\n",
      "..processing 25367577\n",
      "0\n",
      "..processing 24273831\n",
      "2\n",
      "..processing 25122632\n",
      "2\n",
      "..processing 23960887\n",
      "2\n",
      "..processing 24572381\n",
      "3\n",
      "..processing 24062745\n",
      "0\n",
      "..processing 25260462\n",
      "5\n",
      "..processing 24401270\n",
      "5\n",
      "..processing 23923771\n",
      "0\n",
      "..processing 24689764\n",
      "5\n",
      "..processing 24544902\n",
      "2\n",
      "..processing 24442167\n",
      "0\n",
      "..processing 23709428\n",
      "3\n",
      "..processing 24359801\n",
      "4\n",
      "..processing 25209915\n",
      "3\n",
      "..processing 23777015\n",
      "5\n",
      "..processing 24724798\n",
      "2\n",
      "Error for D:/IAA/data/images/dataset/2/24724798/url03.jpg\n",
      "Error for D:/IAA/data/images/dataset/2/24724798/url05.jpg\n",
      "Error for D:/IAA/data/images/dataset/2/24724798/url06.jpg\n",
      "..processing 24546158\n",
      "0\n",
      "..processing 24002236\n",
      "1\n",
      "..processing 25484716\n",
      "5\n",
      "..processing 24391677\n",
      "4\n",
      "Error for D:/IAA/data/images/dataset/4/24391677/url05.jpg\n",
      "..processing 24267620\n",
      "2\n",
      "..processing 24136561\n",
      "1\n",
      "..processing 25187314\n",
      "5\n",
      "Error for D:/IAA/data/images/dataset/5/25187314/url01.jpg\n",
      "..processing 25438936\n",
      "0\n",
      "..processing 25084484\n",
      "4\n",
      "..processing 24563390\n",
      "0\n",
      "..processing 24934110\n",
      "1\n",
      "..processing 24205665\n",
      "0\n",
      "..processing 24153690\n",
      "2\n",
      "..processing 24599247\n",
      "0\n",
      "..processing 24939769\n",
      "1\n",
      "..processing 24978207\n",
      "3\n",
      "..processing 24969974\n",
      "1\n",
      "..processing 24558407\n",
      "3\n",
      "Error for D:/IAA/data/images/dataset/3/24558407/url05.jpg\n",
      "..processing 24844428\n",
      "2\n",
      "Error for D:/IAA/data/images/dataset/2/24844428/url02.jpg\n",
      "..processing 25663777\n",
      "2\n",
      "..processing 24147694\n",
      "3\n",
      "..processing 24939127\n",
      "3\n",
      "..processing 24788080\n",
      "4\n",
      "Error for D:/IAA/data/images/dataset/4/24788080/url05.jpg\n",
      "..processing 24582396\n",
      "4\n",
      "..processing 24334668\n",
      "4\n",
      "..processing 24012387\n",
      "0\n",
      "..processing 24158918\n",
      "1\n",
      "..processing 24128636\n",
      "3\n",
      "Error for D:/IAA/data/images/dataset/3/24128636/url05.jpg\n",
      "..processing 24888829\n",
      "1\n",
      "..processing 25265685\n",
      "4\n",
      "Error for D:/IAA/data/images/dataset/4/25265685/url02.jpg\n",
      "..processing 25154793\n",
      "1\n",
      "..processing 24686855\n",
      "4\n",
      "..processing 25352112\n",
      "3\n",
      "..processing 24546003\n",
      "1\n",
      "..processing 25332834\n",
      "2\n",
      "..processing 24917075\n",
      "1\n",
      "Error for D:/IAA/data/images/dataset/1/24917075/url01.jpg\n",
      "..processing 24018594\n",
      "1\n",
      "..processing 25244920\n",
      "1\n",
      "..processing 23553566\n",
      "1\n",
      "..processing 25613222\n",
      "4\n",
      "..processing 24522220\n",
      "4\n",
      "..processing 24149807\n",
      "3\n",
      "Error for D:/IAA/data/images/dataset/3/24149807/url04.jpg\n",
      "..processing 25302033\n",
      "4\n",
      "..processing 24219625\n",
      "4\n",
      "Error for D:/IAA/data/images/dataset/4/24219625/url03.jpg\n",
      "..processing 24264535\n",
      "2\n",
      "..processing 25458214\n",
      "3\n",
      "..processing 24812883\n",
      "1\n",
      "..processing 24252414\n",
      "5\n",
      "Error for D:/IAA/data/images/dataset/5/24252414/url06.jpg\n",
      "..processing 24630811\n",
      "3\n",
      "..processing 24347313\n",
      "4\n",
      "..processing 25545295\n",
      "1\n",
      "..processing 25630546\n",
      "0\n",
      "..processing 24558474\n",
      "5\n",
      "..processing 25354033\n",
      "0\n",
      "..processing 24136965\n",
      "3\n",
      "..processing 23750690\n",
      "4\n",
      "..processing 23646859\n",
      "0\n",
      "..processing 24940852\n",
      "4\n",
      "..processing 24886706\n",
      "4\n",
      "Error for D:/IAA/data/images/dataset/4/24886706/url04.jpg\n",
      "..processing 24223929\n",
      "0\n",
      "..processing 25045340\n",
      "2\n",
      "..processing 25241630\n",
      "3\n",
      "..processing 24415185\n",
      "1\n",
      "..processing 25668470\n",
      "4\n",
      "Error for D:/IAA/data/images/dataset/4/25668470/url05.jpg\n",
      "..processing 25692191\n",
      "2\n",
      "..processing 24117701\n",
      "3\n",
      "Error for D:/IAA/data/images/dataset/3/24117701/url02.jpg\n",
      "..processing 24085524\n",
      "3\n",
      "Error for D:/IAA/data/images/dataset/3/24085524/url03.jpg\n",
      "..processing 24036654\n",
      "0\n",
      "..processing 23972898\n",
      "2\n",
      "Error for D:/IAA/data/images/dataset/2/23972898/url03.jpg\n",
      "..processing 24571931\n",
      "2\n",
      "Error for D:/IAA/data/images/dataset/2/24571931/url05.jpg\n",
      "..processing 23981005\n",
      "1\n",
      "Error for D:/IAA/data/images/dataset/1/23981005/url04.jpg\n",
      "..processing 24485766\n",
      "1\n",
      "..processing 25231907\n",
      "2\n",
      "..processing 25009567\n",
      "1\n",
      "..processing 23543753\n",
      "2\n",
      "..processing 25120053\n",
      "1\n",
      "..processing 23773243\n",
      "0\n",
      "..processing 23759309\n",
      "5\n",
      "..processing 25310339\n",
      "4\n",
      "..processing 24102445\n",
      "0\n",
      "..processing 24031167\n",
      "0\n",
      "..processing 25486685\n",
      "5\n",
      "..processing 23659902\n",
      "0\n",
      "..processing 24157207\n",
      "2\n",
      "..processing 24355159\n",
      "3\n",
      "Error for D:/IAA/data/images/dataset/3/24355159/url01.jpg\n",
      "..processing 25265104\n",
      "0\n",
      "..processing 24698453\n",
      "4\n",
      "..processing 23705989\n",
      "4\n",
      "..processing 25237753\n",
      "0\n",
      "..processing 24152846\n",
      "1\n",
      "..processing 24050777\n",
      "1\n",
      "..processing 25471337\n",
      "2\n",
      "..processing 24154522\n",
      "3\n",
      "Error for D:/IAA/data/images/dataset/3/24154522/url05.jpg\n",
      "..processing 25126975\n",
      "3\n",
      "..processing 23835651\n",
      "5\n",
      "..processing 24737129\n",
      "1\n",
      "..processing 25411995\n",
      "2\n",
      "..processing 23908466\n",
      "2\n",
      "..processing 24374834\n",
      "2\n",
      "..processing 24257992\n",
      "5\n",
      "..processing 23948942\n",
      "3\n",
      "..processing 23649823\n",
      "0\n",
      "..processing 24562534\n",
      "2\n",
      "..processing 24378881\n",
      "1\n",
      "..processing 23981291\n",
      "1\n",
      "..processing 25512798\n",
      "4\n",
      "..processing 24338515\n",
      "3\n",
      "Error for D:/IAA/data/images/dataset/3/24338515/url03.jpg\n",
      "..processing 25228232\n",
      "0\n",
      "..processing 25487537\n",
      "2\n",
      "..processing 24470516\n",
      "0\n",
      "..processing 23811534\n",
      "4\n",
      "..processing 23797769\n",
      "2\n",
      "..processing 25209736\n",
      "0\n",
      "..processing 25455679\n",
      "2\n",
      "..processing 25297549\n",
      "4\n",
      "..processing 24651092\n",
      "3\n",
      "..processing 24160057\n",
      "3\n",
      "..processing 24252762\n",
      "5\n",
      "..processing 24306982\n",
      "1\n",
      "..processing 25484468\n",
      "4\n",
      "..processing 24241538\n",
      "2\n",
      "..processing 24714203\n",
      "5\n",
      "..processing 24613235\n",
      "5\n",
      "..processing 24715717\n",
      "3\n",
      "..processing 25139257\n",
      "2\n",
      "..processing 25200869\n",
      "2\n",
      "..processing 24330544\n",
      "4\n",
      "..processing 24419737\n",
      "4\n",
      "Error for D:/IAA/data/images/dataset/4/24419737/url02.jpg\n",
      "..processing 23636277\n",
      "5\n",
      "Error for D:/IAA/data/images/dataset/5/23636277/url06.jpg\n",
      "..processing 24508243\n",
      "2\n",
      "..processing 24129664\n",
      "1\n",
      "..processing 23681635\n",
      "5\n",
      "..processing 25492392\n",
      "5\n",
      "..processing 24094175\n",
      "3\n",
      "..processing 24575130\n",
      "5\n",
      "..processing 24309770\n",
      "2\n",
      "..processing 24214723\n",
      "3\n",
      "..processing 24517043\n",
      "5\n",
      "Error for D:/IAA/data/images/dataset/5/24517043/url06.jpg\n",
      "..processing 23841759\n",
      "0\n",
      "..processing 25453204\n",
      "3\n",
      "..processing 24616712\n",
      "3\n",
      "..processing 24285158\n",
      "2\n",
      "..processing 25375677\n",
      "0\n",
      "..processing 24943804\n",
      "1\n",
      "..processing 25107227\n",
      "1\n",
      "..processing 24629961\n",
      "0\n",
      "..processing 25683504\n",
      "2\n",
      "..processing 24828975\n",
      "3\n",
      "..processing 23579404\n",
      "4\n",
      "..processing 25417858\n",
      "1\n",
      "..processing 25119119\n",
      "0\n",
      "..processing 23529429\n",
      "1\n",
      "..processing 24299433\n",
      "2\n",
      "Error for D:/IAA/data/images/dataset/2/24299433/url05.jpg\n",
      "..processing 24168928\n",
      "5\n",
      "..processing 24338608\n",
      "2\n",
      "Error for D:/IAA/data/images/dataset/2/24338608/url05.jpg\n",
      "..processing 24681591\n",
      "3\n",
      "Error for D:/IAA/data/images/dataset/3/24681591/url06.jpg\n",
      "..processing 25514025\n",
      "0\n",
      "..processing 24839255\n",
      "4\n",
      "..processing 24973459\n",
      "1\n",
      "..processing 24527588\n",
      "5\n",
      "..processing 25368493\n",
      "0\n",
      "Error for D:/IAA/data/images/dataset/0/25368493/url04.jpg\n",
      "..processing 24257634\n",
      "0\n",
      "..processing 24865361\n",
      "1\n",
      "..processing 24728317\n",
      "4\n",
      "Error for D:/IAA/data/images/dataset/4/24728317/url04.jpg\n",
      "..processing 24364978\n",
      "4\n",
      "..processing 25508385\n",
      "2\n",
      "..processing 24455116\n",
      "3\n",
      "..processing 24811184\n",
      "3\n",
      "..processing 25637026\n",
      "5\n",
      "..processing 25455526\n",
      "4\n",
      "Error for D:/IAA/data/images/dataset/4/25455526/url02.jpg\n",
      "..processing 24026760\n",
      "3\n"
     ]
    },
    {
     "name": "stdout",
     "output_type": "stream",
     "text": [
      "..processing 23994954\n",
      "4\n",
      "..processing 23807284\n",
      "5\n",
      "Error for D:/IAA/data/images/dataset/5/23807284/url06.jpg\n",
      "..processing 24482296\n",
      "1\n",
      "..processing 23931232\n",
      "2\n",
      "..processing 24091245\n",
      "4\n",
      "..processing 23537387\n",
      "5\n",
      "..processing 23584199\n",
      "5\n",
      "..processing 25555220\n",
      "5\n",
      "..processing 24517843\n",
      "1\n",
      "..processing 25061293\n",
      "4\n",
      "Error for D:/IAA/data/images/dataset/4/25061293/url04.jpg\n",
      "..processing 24270940\n",
      "5\n",
      "..processing 24382670\n",
      "3\n",
      "..processing 24621016\n",
      "3\n",
      "..processing 24006681\n",
      "4\n",
      "..processing 24175927\n",
      "2\n",
      "Error for D:/IAA/data/images/dataset/2/24175927/url03.jpg\n",
      "..processing 24315025\n",
      "3\n",
      "..processing 23871227\n",
      "0\n",
      "..processing 24477908\n",
      "3\n",
      "..processing 23977715\n",
      "3\n",
      "..processing 24207500\n",
      "4\n",
      "..processing 25566104\n",
      "2\n",
      "..processing 24480205\n",
      "4\n",
      "..processing 25052412\n",
      "0\n",
      "..processing 24710274\n",
      "1\n",
      "..processing 23815265\n",
      "3\n",
      "..processing 24239258\n",
      "5\n",
      "..processing 23875180\n",
      "3\n",
      "..processing 24133290\n",
      "3\n",
      "Error for D:/IAA/data/images/dataset/3/24133290/url01.jpg\n",
      "..processing 24675426\n",
      "1\n",
      "..processing 25454402\n",
      "3\n",
      "..processing 24407327\n",
      "3\n",
      "Error for D:/IAA/data/images/dataset/3/24407327/url01.jpg\n",
      "..processing 24831390\n",
      "0\n",
      "..processing 24019176\n",
      "3\n",
      "..processing 25580068\n",
      "0\n",
      "..processing 24022231\n",
      "0\n",
      "..processing 23641575\n",
      "5\n",
      "..processing 24095930\n",
      "0\n",
      "..processing 24974914\n",
      "4\n",
      "..processing 25421413\n",
      "0\n",
      "..processing 24789541\n",
      "2\n",
      "..processing 23561699\n",
      "3\n",
      "..processing 24391604\n",
      "2\n",
      "..processing 25475573\n",
      "0\n",
      "..processing 24255575\n",
      "1\n",
      "..processing 25588939\n",
      "5\n",
      "..processing 24115215\n",
      "2\n",
      "Error for D:/IAA/data/images/dataset/2/24115215/url01.jpg\n",
      "..processing 24331773\n",
      "1\n",
      "..processing 23971058\n",
      "1\n",
      "..processing 25684688\n",
      "5\n",
      "..processing 25384851\n",
      "2\n",
      "..processing 24700972\n",
      "3\n",
      "..processing 24833575\n",
      "1\n",
      "..processing 23676457\n",
      "4\n",
      "..processing 24396771\n",
      "2\n",
      "..processing 24097783\n",
      "2\n",
      "..processing 25614136\n",
      "0\n",
      "..processing 23548680\n",
      "4\n",
      "..processing 23562782\n",
      "5\n",
      "..processing 23979792\n",
      "4\n",
      "..processing 24026288\n",
      "0\n",
      "..processing 24821379\n",
      "4\n",
      "..processing 24430772\n",
      "1\n",
      "..processing 24795272\n",
      "2\n",
      "..processing 24829826\n",
      "1\n",
      "..processing 24773466\n",
      "5\n",
      "..processing 24178329\n",
      "4\n",
      "..processing 23568380\n",
      "3\n",
      "..processing 25290382\n",
      "0\n",
      "..processing 25066857\n",
      "2\n",
      "..processing 23931496\n",
      "5\n",
      "..processing 23753169\n",
      "4\n",
      "..processing 24517675\n",
      "3\n",
      "..processing 23646386\n",
      "1\n",
      "..processing 23538910\n",
      "1\n",
      "..processing 23697818\n",
      "5\n",
      "..processing 24758019\n",
      "5\n",
      "..processing 23972031\n",
      "4\n",
      "..processing 25310145\n",
      "4\n",
      "..processing 24096264\n",
      "2\n",
      "..processing 24335184\n",
      "0\n",
      "..processing 24164176\n",
      "2\n",
      "..processing 24360200\n",
      "4\n",
      "..processing 24301901\n",
      "0\n",
      "..processing 24182019\n",
      "2\n",
      "..processing 24821731\n",
      "5\n",
      "..processing 24996010\n",
      "1\n",
      "..processing 23933747\n",
      "3\n",
      "..processing 24925094\n",
      "0\n",
      "..processing 25058974\n",
      "4\n",
      "..processing 23532162\n",
      "2\n",
      "..processing 25522953\n",
      "5\n",
      "Error for D:/IAA/data/images/dataset/5/25522953/url06.jpg\n",
      "..processing 25037196\n",
      "1\n",
      "..processing 24076911\n",
      "5\n",
      "Error Count80\n",
      "End of Vector Creation\n"
     ]
    }
   ],
   "source": [
    "i = 0\n",
    "err_count = 0\n",
    "dict_stock_vectors = {}\n",
    "for rec in df_cars_train[['StockNumber','Grade']].itertuples():\n",
    "    stock = rec[1]\n",
    "    folder = str(rec[1])\n",
    "    print('..processing '+folder)\n",
    "    grade = str(rec[2])\n",
    "    print(grade)\n",
    "    #     print(rec.url01)\n",
    "    i = i+1\n",
    "    stock_img_vector = np.ndarray((0,))  #blank vector\n",
    "    for j in range(0,6):\n",
    "        filename='url0'+str(j+1)+'.jpg'\n",
    "        img_path = 'D:/IAA/data/images/dataset/'+grade+'/'+folder + '/' + filename\n",
    "#         print(img_path)\n",
    "        if os.path.exists(img_path):          \n",
    "            indiv_img_vector = fe.extract(Image.open(img_path))\n",
    "            stock_img_vector = np.concatenate((stock_img_vector, indiv_img_vector), axis=0)\n",
    "        else:\n",
    "            print('Error for ' + img_path)\n",
    "            err_count = err_count + 1\n",
    "            indiv_img_vector = np.zeros((4096,))\n",
    "            stock_img_vector = np.concatenate((stock_img_vector, indiv_img_vector), axis=0)\n",
    "#         try:\n",
    "#             wget.download(urlname,out='IAA/cars/'+filename)\n",
    "#         except:\n",
    "#             print('Error')\n",
    "#             continue\n",
    "#     print(stock_img_vector.shape)\n",
    "    dict_stock_vectors[stock] = stock_img_vector\n",
    "#     if (i==5):\n",
    "#         break\n",
    "print('Error Count' + str(err_count))\n",
    "print('End of Vector Creation')\n"
   ]
  },
  {
   "cell_type": "code",
   "execution_count": 35,
   "metadata": {},
   "outputs": [
    {
     "data": {
      "text/plain": [
       "600"
      ]
     },
     "execution_count": 35,
     "metadata": {},
     "output_type": "execute_result"
    }
   ],
   "source": [
    "len(dict_stock_vectors)"
   ]
  },
  {
   "cell_type": "markdown",
   "metadata": {},
   "source": [
    "## Saving as a List of Vectors"
   ]
  },
  {
   "cell_type": "code",
   "execution_count": null,
   "metadata": {
    "collapsed": true
   },
   "outputs": [],
   "source": [
    "i = 0\n",
    "list_stock_vectors = []\n",
    "for rec in df_cars_train[['StockNumber','Grade']].itertuples():\n",
    "    stock = rec[1]\n",
    "    folder = str(rec[1])\n",
    "    print('..processing '+folder)\n",
    "    grade = str(rec[2])\n",
    "    print(grade)\n",
    "    #     print(rec.url01)\n",
    "    i = i+1\n",
    "    stock_img_vector = np.ndarray((0,))  #blank vector\n",
    "    for j in range(0,6):\n",
    "        filename='url0'+str(j+1)+'.jpg'\n",
    "        img_path = 'D:/IAA/data/images/dataset/'+grade+'/'+folder + '/' + filename\n",
    "#         print(img_path)\n",
    "        if os.path.exists(img_path):          \n",
    "            indiv_img_vector = fe.extract(Image.open(img_path))\n",
    "            stock_img_vector = np.concatenate((stock_img_vector, indiv_img_vector), axis=0)\n",
    "        else:\n",
    "            print('Error for ' + img_path)\n",
    "            indiv_img_vector = np.zeros((4096,))\n",
    "            stock_img_vector = np.concatenate((stock_img_vector, indiv_img_vector), axis=0)\n",
    "#         try:\n",
    "#             wget.download(urlname,out='IAA/cars/'+filename)\n",
    "#         except:\n",
    "#             print('Error')\n",
    "#             continue\n",
    "#     print(stock_img_vector.shape)\n",
    "    list_stock_vectors[stock] = stock_img_vector\n",
    "    if (i==100):\n",
    "        break\n",
    "    "
   ]
  },
  {
   "cell_type": "code",
   "execution_count": 135,
   "metadata": {},
   "outputs": [
    {
     "name": "stdout",
     "output_type": "stream",
     "text": [
      "failure\n"
     ]
    }
   ],
   "source": [
    "if os.path.exists('D:/IAA/data/images/dataset/0/25368493/url04.jpg'):\n",
    "    print('success')\n",
    "else:\n",
    "    print('failure')"
   ]
  },
  {
   "cell_type": "code",
   "execution_count": 129,
   "metadata": {},
   "outputs": [
    {
     "data": {
      "text/plain": [
       "array([0.        , 0.        , 0.        , ..., 0.        , 0.        ,\n",
       "       0.04383248])"
      ]
     },
     "execution_count": 129,
     "metadata": {},
     "output_type": "execute_result"
    }
   ],
   "source": [
    "dict_stock_vectors[25209736]"
   ]
  },
  {
   "cell_type": "markdown",
   "metadata": {},
   "source": [
    "## Pickle Steps\n",
    "* Saving the Pickle File / Database/Dictionary of Vectors file"
   ]
  },
  {
   "cell_type": "code",
   "execution_count": 36,
   "metadata": {},
   "outputs": [
    {
     "name": "stdout",
     "output_type": "stream",
     "text": [
      "success\n"
     ]
    }
   ],
   "source": [
    "database_filename = 'stock_vectors.file'\n",
    "\n",
    "with open(database_filename,'wb') as wfp:\n",
    "    pickle.dump(dict_stock_vectors, wfp)\n",
    "fn_status = 'success'\n",
    "print(fn_status)\n"
   ]
  },
  {
   "cell_type": "markdown",
   "metadata": {},
   "source": [
    "* Opening the Pickle File / Database/Dictionary of Vectors file"
   ]
  },
  {
   "cell_type": "code",
   "execution_count": 37,
   "metadata": {},
   "outputs": [
    {
     "name": "stdout",
     "output_type": "stream",
     "text": [
      "dict_keys([24214918, 24900394, 24337626, 24768596, 24803130, 23769812, 24282878, 23903697, 24217807, 23865649, 24615155, 24644204, 25530173, 25615200, 24415917, 25580006, 24529485, 24146452, 24448909, 23664696, 25525493, 25080244, 24605740, 24291857, 25163335, 24324896, 24717055, 24838651, 25060780, 23741357, 24017360, 24477310, 25592331, 24212463, 24206606, 24074222, 24066510, 24085627, 24526310, 23891252, 25372350, 24072243, 24380913, 23996486, 24172981, 25589031, 24412359, 24265273, 24463342, 23793579, 24769257, 25311486, 23674850, 24569943, 24650169, 24013992, 24687482, 24637920, 25228108, 24007042, 23704706, 24335826, 23962143, 24050860, 24168548, 23703576, 25664901, 24233730, 23668346, 24640319, 24476816, 24171578, 25496451, 25521007, 24956340, 24024569, 23606095, 24642403, 24688166, 24576248, 24319324, 24758821, 24542018, 24094312, 24372948, 24064727, 24524210, 25157840, 25619789, 23831451, 23580867, 23596236, 24156531, 25706731, 24769883, 25130127, 24228659, 23848385, 25582303, 23967104, 25543700, 23961472, 24653193, 24061300, 24737040, 24357490, 25169551, 25159645, 24087286, 25683547, 23939558, 24719544, 24964726, 24484142, 24796868, 24878758, 24280757, 24177817, 25544965, 25163354, 24079032, 23944225, 24007796, 23927627, 24740273, 24239807, 24972380, 24995145, 25632398, 23941265, 24124196, 25562025, 24590481, 24206453, 24161506, 24789527, 24332968, 23957287, 24198560, 24308764, 24472536, 24252480, 24160648, 24126957, 24542125, 24104430, 23914417, 24647771, 24054612, 24200392, 24433411, 24406407, 24668037, 24638344, 25400649, 25401760, 24012775, 24361980, 24633984, 23908019, 24985938, 23661427, 24450381, 24904763, 24900453, 25305449, 25281293, 23569414, 24434225, 24113446, 23566447, 24740851, 25368636, 24508263, 23890196, 23968444, 25271885, 23776317, 24162221, 24027818, 25353286, 24690054, 25595131, 24791064, 23899969, 23748334, 24519835, 25621686, 24720671, 23878423, 24193539, 25552584, 25561444, 23879794, 23656917, 23931313, 25597901, 24077536, 24027197, 24833491, 25376114, 25472876, 23955672, 25400422, 25493010, 23957644, 24572445, 25014225, 24727630, 23963164, 25479952, 25622653, 25014800, 25602446, 24120398, 24690151, 25335635, 23586004, 23812758, 25635164, 24684896, 24999477, 24596175, 24260875, 23595319, 25205016, 25050832, 24677289, 25374878, 23635311, 24255014, 25156738, 24223009, 24269845, 25488146, 24903106, 23880066, 25437037, 24815691, 25173282, 23822161, 24336211, 24604818, 23963961, 24165918, 25084760, 25379547, 24485602, 24517433, 24435089, 24982079, 24255070, 24316124, 25370303, 25565447, 24221810, 25480701, 25324669, 23911476, 24886147, 24933896, 25474186, 25499183, 23582599, 23724222, 25097726, 24869762, 25571105, 24484244, 25516954, 24301206, 25667497, 24438134, 24516381, 24049361, 25493171, 24431341, 25129469, 25078595, 24189853, 24957491, 25179043, 25232462, 24226893, 24239310, 23994172, 25264190, 25277877, 24123846, 23928075, 23937316, 24269755, 24462487, 24509546, 25257069, 23936387, 23754367, 25429856, 24581630, 25454955, 25517449, 24145962, 23661898, 24374989, 23629806, 23926982, 24600699, 24041754, 23793741, 24377006, 24548992, 24442802, 25458326, 25233341, 25706727, 25511703, 23800009, 24220512, 25437044, 25367577, 24273831, 25122632, 23960887, 24572381, 24062745, 25260462, 24401270, 23923771, 24689764, 24544902, 24442167, 23709428, 24359801, 25209915, 23777015, 24724798, 24546158, 24002236, 25484716, 24391677, 24267620, 24136561, 25187314, 25438936, 25084484, 24563390, 24934110, 24205665, 24153690, 24599247, 24939769, 24978207, 24969974, 24558407, 24844428, 25663777, 24147694, 24939127, 24788080, 24582396, 24334668, 24012387, 24158918, 24128636, 24888829, 25265685, 25154793, 24686855, 25352112, 24546003, 25332834, 24917075, 24018594, 25244920, 23553566, 25613222, 24522220, 24149807, 25302033, 24219625, 24264535, 25458214, 24812883, 24252414, 24630811, 24347313, 25545295, 25630546, 24558474, 25354033, 24136965, 23750690, 23646859, 24940852, 24886706, 24223929, 25045340, 25241630, 24415185, 25668470, 25692191, 24117701, 24085524, 24036654, 23972898, 24571931, 23981005, 24485766, 25231907, 25009567, 23543753, 25120053, 23773243, 23759309, 25310339, 24102445, 24031167, 25486685, 23659902, 24157207, 24355159, 25265104, 24698453, 23705989, 25237753, 24152846, 24050777, 25471337, 24154522, 25126975, 23835651, 24737129, 25411995, 23908466, 24374834, 24257992, 23948942, 23649823, 24562534, 24378881, 23981291, 25512798, 24338515, 25228232, 25487537, 24470516, 23811534, 23797769, 25209736, 25455679, 25297549, 24651092, 24160057, 24252762, 24306982, 25484468, 24241538, 24714203, 24613235, 24715717, 25139257, 25200869, 24330544, 24419737, 23636277, 24508243, 24129664, 23681635, 25492392, 24094175, 24575130, 24309770, 24214723, 24517043, 23841759, 25453204, 24616712, 24285158, 25375677, 24943804, 25107227, 24629961, 25683504, 24828975, 23579404, 25417858, 25119119, 23529429, 24299433, 24168928, 24338608, 24681591, 25514025, 24839255, 24973459, 24527588, 25368493, 24257634, 24865361, 24728317, 24364978, 25508385, 24455116, 24811184, 25637026, 25455526, 24026760, 23994954, 23807284, 24482296, 23931232, 24091245, 23537387, 23584199, 25555220, 24517843, 25061293, 24270940, 24382670, 24621016, 24006681, 24175927, 24315025, 23871227, 24477908, 23977715, 24207500, 25566104, 24480205, 25052412, 24710274, 23815265, 24239258, 23875180, 24133290, 24675426, 25454402, 24407327, 24831390, 24019176, 25580068, 24022231, 23641575, 24095930, 24974914, 25421413, 24789541, 23561699, 24391604, 25475573, 24255575, 25588939, 24115215, 24331773, 23971058, 25684688, 25384851, 24700972, 24833575, 23676457, 24396771, 24097783, 25614136, 23548680, 23562782, 23979792, 24026288, 24821379, 24430772, 24795272, 24829826, 24773466, 24178329, 23568380, 25290382, 25066857, 23931496, 23753169, 24517675, 23646386, 23538910, 23697818, 24758019, 23972031, 25310145, 24096264, 24335184, 24164176, 24360200, 24301901, 24182019, 24821731, 24996010, 23933747, 24925094, 25058974, 23532162, 25522953, 25037196, 24076911])\n"
     ]
    }
   ],
   "source": [
    "database_filename = 'stock_vectors.file'\n",
    "\n",
    "if os.path.exists(database_filename):\n",
    "    with open(database_filename,'rb') as rfp: \n",
    "        database = pickle.load(rfp)\n",
    "        print(database.keys())"
   ]
  },
  {
   "cell_type": "code",
   "execution_count": 38,
   "metadata": {},
   "outputs": [
    {
     "data": {
      "text/plain": [
       "600"
      ]
     },
     "execution_count": 38,
     "metadata": {},
     "output_type": "execute_result"
    }
   ],
   "source": [
    "len(database)"
   ]
  },
  {
   "cell_type": "code",
   "execution_count": 39,
   "metadata": {
    "collapsed": true
   },
   "outputs": [],
   "source": [
    "train_matrix = np.ndarray((600, 4096*6))"
   ]
  },
  {
   "cell_type": "code",
   "execution_count": 40,
   "metadata": {},
   "outputs": [
    {
     "data": {
      "text/plain": [
       "(600, 24576)"
      ]
     },
     "execution_count": 40,
     "metadata": {},
     "output_type": "execute_result"
    }
   ],
   "source": [
    "train_matrix.shape"
   ]
  },
  {
   "cell_type": "code",
   "execution_count": 41,
   "metadata": {},
   "outputs": [
    {
     "data": {
      "text/plain": [
       "array([[0., 0., 0., ..., 0., 0., 0.],\n",
       "       [0., 0., 0., ..., 0., 0., 0.],\n",
       "       [0., 0., 0., ..., 0., 0., 0.],\n",
       "       ...,\n",
       "       [0., 0., 0., ..., 0., 0., 0.],\n",
       "       [0., 0., 0., ..., 0., 0., 0.],\n",
       "       [0., 0., 0., ..., 0., 0., 0.]])"
      ]
     },
     "execution_count": 41,
     "metadata": {},
     "output_type": "execute_result"
    }
   ],
   "source": [
    "train_matrix"
   ]
  },
  {
   "cell_type": "code",
   "execution_count": 42,
   "metadata": {},
   "outputs": [
    {
     "name": "stdout",
     "output_type": "stream",
     "text": [
      "600\n"
     ]
    }
   ],
   "source": [
    "print(len(database.keys()))"
   ]
  },
  {
   "cell_type": "code",
   "execution_count": 87,
   "metadata": {},
   "outputs": [
    {
     "data": {
      "text/html": [
       "<div>\n",
       "<style scoped>\n",
       "    .dataframe tbody tr th:only-of-type {\n",
       "        vertical-align: middle;\n",
       "    }\n",
       "\n",
       "    .dataframe tbody tr th {\n",
       "        vertical-align: top;\n",
       "    }\n",
       "\n",
       "    .dataframe thead th {\n",
       "        text-align: right;\n",
       "    }\n",
       "</style>\n",
       "<table border=\"1\" class=\"dataframe\">\n",
       "  <thead>\n",
       "    <tr style=\"text-align: right;\">\n",
       "      <th></th>\n",
       "      <th>StockNumber</th>\n",
       "      <th>Grade</th>\n",
       "    </tr>\n",
       "  </thead>\n",
       "  <tbody>\n",
       "    <tr>\n",
       "      <th>0</th>\n",
       "      <td>24214918</td>\n",
       "      <td>4</td>\n",
       "    </tr>\n",
       "    <tr>\n",
       "      <th>1</th>\n",
       "      <td>24900394</td>\n",
       "      <td>4</td>\n",
       "    </tr>\n",
       "    <tr>\n",
       "      <th>2</th>\n",
       "      <td>24337626</td>\n",
       "      <td>5</td>\n",
       "    </tr>\n",
       "    <tr>\n",
       "      <th>3</th>\n",
       "      <td>24768596</td>\n",
       "      <td>3</td>\n",
       "    </tr>\n",
       "    <tr>\n",
       "      <th>4</th>\n",
       "      <td>24803130</td>\n",
       "      <td>1</td>\n",
       "    </tr>\n",
       "  </tbody>\n",
       "</table>\n",
       "</div>"
      ],
      "text/plain": [
       "   StockNumber  Grade\n",
       "0     24214918      4\n",
       "1     24900394      4\n",
       "2     24337626      5\n",
       "3     24768596      3\n",
       "4     24803130      1"
      ]
     },
     "execution_count": 87,
     "metadata": {},
     "output_type": "execute_result"
    }
   ],
   "source": [
    "df_cars_train[['StockNumber','Grade']].head()"
   ]
  },
  {
   "cell_type": "code",
   "execution_count": 92,
   "metadata": {},
   "outputs": [
    {
     "data": {
      "text/plain": [
       "600"
      ]
     },
     "execution_count": 92,
     "metadata": {},
     "output_type": "execute_result"
    }
   ],
   "source": [
    "len(df_cars_train)"
   ]
  },
  {
   "cell_type": "code",
   "execution_count": 102,
   "metadata": {},
   "outputs": [
    {
     "data": {
      "text/plain": [
       "dict_keys([24214918, 24900394, 24337626, 24768596, 24803130, 23769812, 24282878, 23903697, 24217807, 23865649, 24615155, 24644204, 25530173, 25615200, 24415917, 25580006, 24529485, 24146452, 24448909, 23664696, 25525493, 25080244, 24605740, 24291857, 25163335, 24324896, 24717055, 24838651, 25060780, 23741357, 24017360, 24477310, 25592331, 24212463, 24206606, 24074222, 24066510, 24085627, 24526310, 23891252, 25372350, 24072243, 24380913, 23996486, 24172981, 25589031, 24412359, 24265273, 24463342, 23793579, 24769257, 25311486, 23674850, 24569943, 24650169, 24013992, 24687482, 24637920, 25228108, 24007042, 23704706, 24335826, 23962143, 24050860, 24168548, 23703576, 25664901, 24233730, 23668346, 24640319, 24476816, 24171578, 25496451, 25521007, 24956340, 24024569, 23606095, 24642403, 24688166, 24576248, 24319324, 24758821, 24542018, 24094312, 24372948, 24064727, 24524210, 25157840, 25619789, 23831451, 23580867, 23596236, 24156531, 25706731, 24769883, 25130127, 24228659, 23848385, 25582303, 23967104, 25543700, 23961472, 24653193, 24061300, 24737040, 24357490, 25169551, 25159645, 24087286, 25683547, 23939558, 24719544, 24964726, 24484142, 24796868, 24878758, 24280757, 24177817, 25544965, 25163354, 24079032, 23944225, 24007796, 23927627, 24740273, 24239807, 24972380, 24995145, 25632398, 23941265, 24124196, 25562025, 24590481, 24206453, 24161506, 24789527, 24332968, 23957287, 24198560, 24308764, 24472536, 24252480, 24160648, 24126957, 24542125, 24104430, 23914417, 24647771, 24054612, 24200392, 24433411, 24406407, 24668037, 24638344, 25400649, 25401760, 24012775, 24361980, 24633984, 23908019, 24985938, 23661427, 24450381, 24904763, 24900453, 25305449, 25281293, 23569414, 24434225, 24113446, 23566447, 24740851, 25368636, 24508263, 23890196, 23968444, 25271885, 23776317, 24162221, 24027818, 25353286, 24690054, 25595131, 24791064, 23899969, 23748334, 24519835, 25621686, 24720671, 23878423, 24193539, 25552584, 25561444, 23879794, 23656917, 23931313, 25597901, 24077536, 24027197, 24833491, 25376114, 25472876, 23955672, 25400422, 25493010, 23957644, 24572445, 25014225, 24727630, 23963164, 25479952, 25622653, 25014800, 25602446, 24120398, 24690151, 25335635, 23586004, 23812758, 25635164, 24684896, 24999477, 24596175, 24260875, 23595319, 25205016, 25050832, 24677289, 25374878, 23635311, 24255014, 25156738, 24223009, 24269845, 25488146, 24903106, 23880066, 25437037, 24815691, 25173282, 23822161, 24336211, 24604818, 23963961, 24165918, 25084760, 25379547, 24485602, 24517433, 24435089, 24982079, 24255070, 24316124, 25370303, 25565447, 24221810, 25480701, 25324669, 23911476, 24886147, 24933896, 25474186, 25499183, 23582599, 23724222, 25097726, 24869762, 25571105, 24484244, 25516954, 24301206, 25667497, 24438134, 24516381, 24049361, 25493171, 24431341, 25129469, 25078595, 24189853, 24957491, 25179043, 25232462, 24226893, 24239310, 23994172, 25264190, 25277877, 24123846, 23928075, 23937316, 24269755, 24462487, 24509546, 25257069, 23936387, 23754367, 25429856, 24581630, 25454955, 25517449, 24145962, 23661898, 24374989, 23629806, 23926982, 24600699, 24041754, 23793741, 24377006, 24548992, 24442802, 25458326, 25233341, 25706727, 25511703, 23800009, 24220512, 25437044, 25367577, 24273831, 25122632, 23960887, 24572381, 24062745, 25260462, 24401270, 23923771, 24689764, 24544902, 24442167, 23709428, 24359801, 25209915, 23777015, 24724798, 24546158, 24002236, 25484716, 24391677, 24267620, 24136561, 25187314, 25438936, 25084484, 24563390, 24934110, 24205665, 24153690, 24599247, 24939769, 24978207, 24969974, 24558407, 24844428, 25663777, 24147694, 24939127, 24788080, 24582396, 24334668, 24012387, 24158918, 24128636, 24888829, 25265685, 25154793, 24686855, 25352112, 24546003, 25332834, 24917075, 24018594, 25244920, 23553566, 25613222, 24522220, 24149807, 25302033, 24219625, 24264535, 25458214, 24812883, 24252414, 24630811, 24347313, 25545295, 25630546, 24558474, 25354033, 24136965, 23750690, 23646859, 24940852, 24886706, 24223929, 25045340, 25241630, 24415185, 25668470, 25692191, 24117701, 24085524, 24036654, 23972898, 24571931, 23981005, 24485766, 25231907, 25009567, 23543753, 25120053, 23773243, 23759309, 25310339, 24102445, 24031167, 25486685, 23659902, 24157207, 24355159, 25265104, 24698453, 23705989, 25237753, 24152846, 24050777, 25471337, 24154522, 25126975, 23835651, 24737129, 25411995, 23908466, 24374834, 24257992, 23948942, 23649823, 24562534, 24378881, 23981291, 25512798, 24338515, 25228232, 25487537, 24470516, 23811534, 23797769, 25209736, 25455679, 25297549, 24651092, 24160057, 24252762, 24306982, 25484468, 24241538, 24714203, 24613235, 24715717, 25139257, 25200869, 24330544, 24419737, 23636277, 24508243, 24129664, 23681635, 25492392, 24094175, 24575130, 24309770, 24214723, 24517043, 23841759, 25453204, 24616712, 24285158, 25375677, 24943804, 25107227, 24629961, 25683504, 24828975, 23579404, 25417858, 25119119, 23529429, 24299433, 24168928, 24338608, 24681591, 25514025, 24839255, 24973459, 24527588, 25368493, 24257634, 24865361, 24728317, 24364978, 25508385, 24455116, 24811184, 25637026, 25455526, 24026760, 23994954, 23807284, 24482296, 23931232, 24091245, 23537387, 23584199, 25555220, 24517843, 25061293, 24270940, 24382670, 24621016, 24006681, 24175927, 24315025, 23871227, 24477908, 23977715, 24207500, 25566104, 24480205, 25052412, 24710274, 23815265, 24239258, 23875180, 24133290, 24675426, 25454402, 24407327, 24831390, 24019176, 25580068, 24022231, 23641575, 24095930, 24974914, 25421413, 24789541, 23561699, 24391604, 25475573, 24255575, 25588939, 24115215, 24331773, 23971058, 25684688, 25384851, 24700972, 24833575, 23676457, 24396771, 24097783, 25614136, 23548680, 23562782, 23979792, 24026288, 24821379, 24430772, 24795272, 24829826, 24773466, 24178329, 23568380, 25290382, 25066857, 23931496, 23753169, 24517675, 23646386, 23538910, 23697818, 24758019, 23972031, 25310145, 24096264, 24335184, 24164176, 24360200, 24301901, 24182019, 24821731, 24996010, 23933747, 24925094, 25058974, 23532162, 25522953, 25037196, 24076911])"
      ]
     },
     "execution_count": 102,
     "metadata": {},
     "output_type": "execute_result"
    }
   ],
   "source": [
    "database.keys()"
   ]
  },
  {
   "cell_type": "code",
   "execution_count": 105,
   "metadata": {
    "collapsed": true
   },
   "outputs": [],
   "source": [
    "stock_list = []\n",
    "X_matrix = np.ndarray((600, 4096*6))\n",
    "y_list = np.ndarray((600,))\n",
    "for i, stock in enumerate(database.keys()): #df_cars_train['StockNumber']:\n",
    "#     print(i)\n",
    "#     print(stock)\n",
    "#     print(database[stock])\n",
    "    X_matrix[i] = database[stock]\n",
    "    y_list[i] = df_cars_train[df_cars_train['StockNumber']==stock]['Grade']\n",
    "    stock_list.append(stock)"
   ]
  },
  {
   "cell_type": "code",
   "execution_count": 110,
   "metadata": {},
   "outputs": [
    {
     "data": {
      "text/plain": [
       "(numpy.ndarray, list)"
      ]
     },
     "execution_count": 110,
     "metadata": {},
     "output_type": "execute_result"
    }
   ],
   "source": [
    "type(y_list), type(stock_list)"
   ]
  },
  {
   "cell_type": "code",
   "execution_count": 107,
   "metadata": {},
   "outputs": [
    {
     "data": {
      "text/plain": [
       "array([4., 4., 5., 3., 1., 5., 2., 5., 4., 1.])"
      ]
     },
     "execution_count": 107,
     "metadata": {},
     "output_type": "execute_result"
    }
   ],
   "source": [
    "y_list[0:10]"
   ]
  },
  {
   "cell_type": "code",
   "execution_count": 108,
   "metadata": {},
   "outputs": [
    {
     "data": {
      "text/plain": [
       "[24214918,\n",
       " 24900394,\n",
       " 24337626,\n",
       " 24768596,\n",
       " 24803130,\n",
       " 23769812,\n",
       " 24282878,\n",
       " 23903697,\n",
       " 24217807,\n",
       " 23865649]"
      ]
     },
     "execution_count": 108,
     "metadata": {},
     "output_type": "execute_result"
    }
   ],
   "source": [
    "stock_list[0:10]"
   ]
  },
  {
   "cell_type": "code",
   "execution_count": 50,
   "metadata": {},
   "outputs": [
    {
     "data": {
      "text/plain": [
       "array([[0.        , 0.        , 0.        , ..., 0.        , 0.03124353,\n",
       "        0.        ],\n",
       "       [0.        , 0.        , 0.        , ..., 0.        , 0.        ,\n",
       "        0.00509369],\n",
       "       [0.        , 0.        , 0.        , ..., 0.        , 0.        ,\n",
       "        0.        ],\n",
       "       ...,\n",
       "       [0.        , 0.        , 0.        , ..., 0.        , 0.        ,\n",
       "        0.        ],\n",
       "       [0.        , 0.        , 0.        , ..., 0.        , 0.        ,\n",
       "        0.        ],\n",
       "       [0.        , 0.        , 0.        , ..., 0.        , 0.        ,\n",
       "        0.        ]])"
      ]
     },
     "execution_count": 50,
     "metadata": {},
     "output_type": "execute_result"
    }
   ],
   "source": [
    "train_matrix"
   ]
  },
  {
   "cell_type": "code",
   "execution_count": 79,
   "metadata": {
    "collapsed": true
   },
   "outputs": [],
   "source": [
    "cars_svd = TruncatedSVD(n_components=700, n_iter=20, random_state=42)"
   ]
  },
  {
   "cell_type": "code",
   "execution_count": 80,
   "metadata": {},
   "outputs": [
    {
     "data": {
      "text/plain": [
       "TruncatedSVD(algorithm='randomized', n_components=700, n_iter=20,\n",
       "       random_state=42, tol=0.0)"
      ]
     },
     "execution_count": 80,
     "metadata": {},
     "output_type": "execute_result"
    }
   ],
   "source": [
    "cars_svd.fit(train_matrix)  "
   ]
  },
  {
   "cell_type": "code",
   "execution_count": 81,
   "metadata": {},
   "outputs": [
    {
     "data": {
      "text/plain": [
       "(600, 24576)"
      ]
     },
     "execution_count": 81,
     "metadata": {},
     "output_type": "execute_result"
    }
   ],
   "source": [
    "train_matrix.shape"
   ]
  },
  {
   "cell_type": "code",
   "execution_count": 82,
   "metadata": {
    "collapsed": true
   },
   "outputs": [],
   "source": [
    "train_matrix_small = cars_svd.transform(train_matrix)  "
   ]
  },
  {
   "cell_type": "code",
   "execution_count": 83,
   "metadata": {},
   "outputs": [
    {
     "data": {
      "text/plain": [
       "(600, 600)"
      ]
     },
     "execution_count": 83,
     "metadata": {},
     "output_type": "execute_result"
    }
   ],
   "source": [
    "train_matrix_small.shape"
   ]
  },
  {
   "cell_type": "code",
   "execution_count": 84,
   "metadata": {},
   "outputs": [
    {
     "data": {
      "text/plain": [
       "array([[ 1.49694514e+00,  2.05191126e-01,  6.23589542e-01, ...,\n",
       "        -2.18002870e-02,  1.53786343e-02,  1.00177111e-02],\n",
       "       [ 1.56449366e+00,  1.12651895e-01,  5.98196801e-01, ...,\n",
       "         1.10385443e-02,  3.58071078e-02, -1.16122548e-02],\n",
       "       [ 1.58269420e+00, -2.60100274e-01, -3.81666308e-01, ...,\n",
       "        -1.52446571e-02,  5.39891373e-03,  2.73660800e-02],\n",
       "       ...,\n",
       "       [ 1.45271402e+00, -3.76696023e-01,  1.08187875e-01, ...,\n",
       "        -1.86393066e-02, -5.60848664e-02, -3.24386706e-02],\n",
       "       [ 1.55665768e+00,  5.22872823e-01,  1.45421777e-01, ...,\n",
       "         6.80399435e-03,  1.53164493e-03,  6.93523609e-03],\n",
       "       [ 1.69842744e+00, -3.06376077e-02,  5.20598398e-01, ...,\n",
       "         2.18037041e-02, -7.22129054e-02,  1.84793365e-02]])"
      ]
     },
     "execution_count": 84,
     "metadata": {},
     "output_type": "execute_result"
    }
   ],
   "source": [
    "train_matrix_small"
   ]
  },
  {
   "cell_type": "code",
   "execution_count": 86,
   "metadata": {},
   "outputs": [
    {
     "name": "stdout",
     "output_type": "stream",
     "text": [
      "1.0\n"
     ]
    }
   ],
   "source": [
    "print(cars_svd.explained_variance_ratio_.sum())  "
   ]
  },
  {
   "cell_type": "code",
   "execution_count": null,
   "metadata": {
    "collapsed": true
   },
   "outputs": [],
   "source": []
  },
  {
   "cell_type": "code",
   "execution_count": 117,
   "metadata": {
    "collapsed": true
   },
   "outputs": [],
   "source": [
    "from sklearn.model_selection import train_test_split\n",
    "X_train, X_test, y_train, y_test = train_test_split(X_matrix, y_list, test_size=0.20, random_state=42)"
   ]
  },
  {
   "cell_type": "code",
   "execution_count": 118,
   "metadata": {},
   "outputs": [
    {
     "data": {
      "text/plain": [
       "(480, 120, 600)"
      ]
     },
     "execution_count": 118,
     "metadata": {},
     "output_type": "execute_result"
    }
   ],
   "source": [
    "len(y_train), len(y_test), len(y_list)"
   ]
  },
  {
   "cell_type": "code",
   "execution_count": 119,
   "metadata": {},
   "outputs": [
    {
     "data": {
      "text/plain": [
       "(480, 120, 600)"
      ]
     },
     "execution_count": 119,
     "metadata": {},
     "output_type": "execute_result"
    }
   ],
   "source": [
    "len(X_train), len(X_test), len(X_matrix)"
   ]
  },
  {
   "cell_type": "code",
   "execution_count": 120,
   "metadata": {},
   "outputs": [
    {
     "name": "stderr",
     "output_type": "stream",
     "text": [
      "C:\\Users\\rahsood\\AppData\\Local\\Continuum\\Anaconda3\\lib\\site-packages\\sklearn\\linear_model\\logistic.py:433: FutureWarning: Default solver will be changed to 'lbfgs' in 0.22. Specify a solver to silence this warning.\n",
      "  FutureWarning)\n",
      "C:\\Users\\rahsood\\AppData\\Local\\Continuum\\Anaconda3\\lib\\site-packages\\sklearn\\linear_model\\logistic.py:460: FutureWarning: Default multi_class will be changed to 'auto' in 0.22. Specify the multi_class option to silence this warning.\n",
      "  \"this warning.\", FutureWarning)\n"
     ]
    },
    {
     "data": {
      "text/plain": [
       "LogisticRegression(C=1.0, class_weight=None, dual=False, fit_intercept=True,\n",
       "          intercept_scaling=1, max_iter=100, multi_class='warn',\n",
       "          n_jobs=None, penalty='l2', random_state=None, solver='warn',\n",
       "          tol=0.0001, verbose=0, warm_start=False)"
      ]
     },
     "execution_count": 120,
     "metadata": {},
     "output_type": "execute_result"
    }
   ],
   "source": [
    "from sklearn.linear_model import LogisticRegression\n",
    "\n",
    "# logreg = LogisticRegression(multi_class='multinomial', solver = 'lbfgs')\n",
    "logreg = LogisticRegression()\n",
    "logreg.fit(X_train, y_train)"
   ]
  },
  {
   "cell_type": "code",
   "execution_count": 121,
   "metadata": {},
   "outputs": [
    {
     "data": {
      "text/plain": [
       "0.475"
      ]
     },
     "execution_count": 121,
     "metadata": {},
     "output_type": "execute_result"
    }
   ],
   "source": [
    "logreg.score(X_test, y_test)"
   ]
  },
  {
   "cell_type": "code",
   "execution_count": 122,
   "metadata": {},
   "outputs": [
    {
     "data": {
      "text/plain": [
       "1.0"
      ]
     },
     "execution_count": 122,
     "metadata": {},
     "output_type": "execute_result"
    }
   ],
   "source": [
    "logreg.score(X_train, y_train)"
   ]
  },
  {
   "cell_type": "code",
   "execution_count": 124,
   "metadata": {},
   "outputs": [],
   "source": [
    "y_pred = logreg.predict(X_test)"
   ]
  },
  {
   "cell_type": "code",
   "execution_count": 125,
   "metadata": {},
   "outputs": [
    {
     "data": {
      "text/plain": [
       "array([0., 3., 3., 4., 2., 2., 0., 3., 0., 0., 1., 3., 0., 4., 1., 4., 1.,\n",
       "       0., 1., 5., 5., 4., 2., 2., 5., 4., 2., 4., 1., 0., 4., 0., 2., 0.,\n",
       "       3., 5., 1., 1., 5., 5., 1., 5., 2., 1., 0., 3., 5., 5., 5., 1., 1.,\n",
       "       4., 0., 4., 4., 4., 5., 4., 4., 2., 2., 0., 3., 5., 3., 0., 2., 0.,\n",
       "       2., 2., 3., 5., 5., 1., 2., 4., 5., 4., 3., 2., 2., 1., 1., 4., 3.,\n",
       "       0., 1., 5., 1., 4., 0., 5., 5., 1., 5., 1., 4., 0., 0., 1., 2., 5.,\n",
       "       0., 2., 5., 0., 4., 0., 5., 4., 4., 5., 1., 3., 1., 5., 4., 5., 0.,\n",
       "       0.])"
      ]
     },
     "execution_count": 125,
     "metadata": {},
     "output_type": "execute_result"
    }
   ],
   "source": [
    "y_pred"
   ]
  },
  {
   "cell_type": "code",
   "execution_count": 126,
   "metadata": {},
   "outputs": [
    {
     "data": {
      "text/plain": [
       "array([0., 2., 4., 3., 2., 2., 2., 3., 1., 0., 5., 5., 0., 4., 1., 3., 1.,\n",
       "       0., 0., 5., 5., 2., 1., 2., 3., 3., 2., 4., 2., 0., 4., 1., 2., 0.,\n",
       "       4., 5., 1., 1., 4., 4., 1., 5., 3., 1., 0., 3., 5., 3., 5., 2., 1.,\n",
       "       3., 0., 5., 5., 3., 3., 4., 5., 3., 3., 1., 2., 3., 2., 2., 2., 0.,\n",
       "       4., 2., 2., 2., 4., 1., 3., 3., 4., 3., 4., 2., 5., 1., 1., 0., 3.,\n",
       "       0., 1., 5., 2., 5., 1., 2., 4., 0., 3., 1., 3., 0., 0., 1., 2., 4.,\n",
       "       0., 2., 5., 2., 3., 0., 5., 4., 4., 5., 2., 4., 1., 4., 2., 1., 1.,\n",
       "       1.])"
      ]
     },
     "execution_count": 126,
     "metadata": {},
     "output_type": "execute_result"
    }
   ],
   "source": [
    "y_test"
   ]
  },
  {
   "cell_type": "code",
   "execution_count": 130,
   "metadata": {},
   "outputs": [
    {
     "data": {
      "text/plain": [
       "array([0., 1., 1., 1., 0., 0., 2., 0., 1., 0., 4., 2., 0., 0., 0., 1., 0.,\n",
       "       0., 1., 0., 0., 2., 1., 0., 2., 1., 0., 0., 1., 0., 0., 1., 0., 0.,\n",
       "       1., 0., 0., 0., 1., 1., 0., 0., 1., 0., 0., 0., 0., 2., 0., 1., 0.,\n",
       "       1., 0., 1., 1., 1., 2., 0., 1., 1., 1., 1., 1., 2., 1., 2., 0., 0.,\n",
       "       2., 0., 1., 3., 1., 0., 1., 1., 1., 1., 1., 0., 3., 0., 0., 4., 0.,\n",
       "       0., 0., 0., 1., 1., 1., 3., 1., 1., 2., 0., 1., 0., 0., 0., 0., 1.,\n",
       "       0., 0., 0., 2., 1., 0., 0., 0., 0., 0., 1., 1., 0., 1., 2., 4., 1.,\n",
       "       1.])"
      ]
     },
     "execution_count": 130,
     "metadata": {},
     "output_type": "execute_result"
    }
   ],
   "source": [
    "abs(y_pred - y_test)"
   ]
  },
  {
   "cell_type": "code",
   "execution_count": 131,
   "metadata": {},
   "outputs": [
    {
     "name": "stdout",
     "output_type": "stream",
     "text": [
      "              precision    recall  f1-score   support\n",
      "\n",
      "         0.0       0.61      0.82      0.70        17\n",
      "         1.0       0.67      0.64      0.65        22\n",
      "         2.0       0.59      0.40      0.48        25\n",
      "         3.0       0.25      0.14      0.18        21\n",
      "         4.0       0.27      0.33      0.30        18\n",
      "         5.0       0.40      0.59      0.48        17\n",
      "\n",
      "   micro avg       0.47      0.47      0.48       120\n",
      "   macro avg       0.46      0.49      0.46       120\n",
      "weighted avg       0.47      0.47      0.46       120\n",
      "\n"
     ]
    }
   ],
   "source": [
    "from sklearn.metrics import classification_report\n",
    "print(classification_report(y_test,y_pred))"
   ]
  },
  {
   "cell_type": "code",
   "execution_count": null,
   "metadata": {
    "collapsed": true
   },
   "outputs": [],
   "source": []
  },
  {
   "cell_type": "code",
   "execution_count": 140,
   "metadata": {
    "collapsed": true
   },
   "outputs": [],
   "source": [
    "from sklearn.ensemble import RandomForestClassifier\n",
    "\n",
    "#Create a Gaussian Classifier\n",
    "clf=RandomForestClassifier(n_estimators=200)\n",
    "\n",
    "#Train the model using the training sets y_pred=clf.predict(X_test)\n",
    "clf.fit(X_train,y_train)\n",
    "\n",
    "y_rf_pred=clf.predict(X_test)"
   ]
  },
  {
   "cell_type": "code",
   "execution_count": 141,
   "metadata": {},
   "outputs": [
    {
     "data": {
      "text/plain": [
       "0.4"
      ]
     },
     "execution_count": 141,
     "metadata": {},
     "output_type": "execute_result"
    }
   ],
   "source": [
    "clf.score(X_test, y_test)"
   ]
  },
  {
   "cell_type": "code",
   "execution_count": 142,
   "metadata": {},
   "outputs": [
    {
     "data": {
      "text/plain": [
       "0.4"
      ]
     },
     "execution_count": 142,
     "metadata": {},
     "output_type": "execute_result"
    }
   ],
   "source": [
    "from sklearn import metrics\n",
    "metrics.accuracy_score(y_test, y_rf_pred)"
   ]
  },
  {
   "cell_type": "code",
   "execution_count": null,
   "metadata": {
    "collapsed": true
   },
   "outputs": [],
   "source": []
  },
  {
   "cell_type": "code",
   "execution_count": 135,
   "metadata": {},
   "outputs": [
    {
     "data": {
      "text/plain": [
       "KNeighborsClassifier(algorithm='auto', leaf_size=30, metric='minkowski',\n",
       "           metric_params=None, n_jobs=None, n_neighbors=5, p=2,\n",
       "           weights='uniform')"
      ]
     },
     "execution_count": 135,
     "metadata": {},
     "output_type": "execute_result"
    }
   ],
   "source": [
    "from sklearn.neighbors import KNeighborsClassifier\n",
    "\n",
    "# 2. instantiate the model (with the default parameters)\n",
    "knn = KNeighborsClassifier()\n",
    "\n",
    "# 3. fit the model with data (occurs in-place)\n",
    "knn.fit(X_train,y_train)"
   ]
  },
  {
   "cell_type": "code",
   "execution_count": 136,
   "metadata": {},
   "outputs": [
    {
     "data": {
      "text/plain": [
       "0.3"
      ]
     },
     "execution_count": 136,
     "metadata": {},
     "output_type": "execute_result"
    }
   ],
   "source": [
    "knn.score(X_test, y_test)"
   ]
  },
  {
   "cell_type": "code",
   "execution_count": null,
   "metadata": {
    "collapsed": true
   },
   "outputs": [],
   "source": []
  },
  {
   "cell_type": "code",
   "execution_count": null,
   "metadata": {
    "collapsed": true
   },
   "outputs": [],
   "source": []
  },
  {
   "cell_type": "code",
   "execution_count": 137,
   "metadata": {
    "collapsed": true
   },
   "outputs": [],
   "source": [
    "from sklearn.naive_bayes import MultinomialNB\n",
    "\n",
    "# 2. instantiate a Multinomial Naive Bayes model\n",
    "nb = MultinomialNB()"
   ]
  },
  {
   "cell_type": "code",
   "execution_count": 138,
   "metadata": {},
   "outputs": [
    {
     "data": {
      "text/plain": [
       "MultinomialNB(alpha=1.0, class_prior=None, fit_prior=True)"
      ]
     },
     "execution_count": 138,
     "metadata": {},
     "output_type": "execute_result"
    }
   ],
   "source": [
    "nb.fit(X_train,y_train)"
   ]
  },
  {
   "cell_type": "code",
   "execution_count": 139,
   "metadata": {},
   "outputs": [
    {
     "data": {
      "text/plain": [
       "0.35"
      ]
     },
     "execution_count": 139,
     "metadata": {},
     "output_type": "execute_result"
    }
   ],
   "source": [
    "nb.score(X_test, y_test)"
   ]
  },
  {
   "cell_type": "code",
   "execution_count": null,
   "metadata": {
    "collapsed": true
   },
   "outputs": [],
   "source": []
  },
  {
   "cell_type": "code",
   "execution_count": null,
   "metadata": {
    "collapsed": true
   },
   "outputs": [],
   "source": []
  },
  {
   "cell_type": "code",
   "execution_count": 52,
   "metadata": {
    "collapsed": true
   },
   "outputs": [],
   "source": [
    "from sklearn.decomposition import TruncatedSVD\n",
    "from sklearn.random_projection import sparse_random_matrix"
   ]
  },
  {
   "cell_type": "code",
   "execution_count": 53,
   "metadata": {},
   "outputs": [
    {
     "data": {
      "text/plain": [
       "TruncatedSVD(algorithm='randomized', n_components=5, n_iter=7,\n",
       "       random_state=42, tol=0.0)"
      ]
     },
     "execution_count": 53,
     "metadata": {},
     "output_type": "execute_result"
    }
   ],
   "source": [
    "# X = sparse_random_matrix(100, 100, density=0.01, random_state=42)\n",
    "# svd = TruncatedSVD(n_components=5, n_iter=7, random_state=42)\n",
    "# svd.fit(X)  "
   ]
  },
  {
   "cell_type": "code",
   "execution_count": 54,
   "metadata": {},
   "outputs": [
    {
     "name": "stdout",
     "output_type": "stream",
     "text": [
      "[0.06063696 0.05842599 0.04970872 0.04344233 0.03723615]\n"
     ]
    }
   ],
   "source": [
    "# print(svd.explained_variance_ratio_)  "
   ]
  },
  {
   "cell_type": "code",
   "execution_count": 55,
   "metadata": {},
   "outputs": [
    {
     "name": "stdout",
     "output_type": "stream",
     "text": [
      "0.2494501382848952\n"
     ]
    }
   ],
   "source": [
    "# print(svd.explained_variance_ratio_.sum())  "
   ]
  },
  {
   "cell_type": "code",
   "execution_count": 56,
   "metadata": {},
   "outputs": [
    {
     "name": "stdout",
     "output_type": "stream",
     "text": [
      "[2.58418571 2.52453902 2.32011672 2.17531753 2.04439905]\n"
     ]
    }
   ],
   "source": [
    "print(svd.singular_values_)  "
   ]
  },
  {
   "cell_type": "code",
   "execution_count": null,
   "metadata": {
    "collapsed": true
   },
   "outputs": [],
   "source": []
  },
  {
   "cell_type": "code",
   "execution_count": null,
   "metadata": {
    "collapsed": true
   },
   "outputs": [],
   "source": []
  },
  {
   "cell_type": "code",
   "execution_count": 43,
   "metadata": {},
   "outputs": [
    {
     "data": {
      "text/plain": [
       "(numpy.ndarray, (9,), ())"
      ]
     },
     "execution_count": 43,
     "metadata": {},
     "output_type": "execute_result"
    }
   ],
   "source": [
    "dists = np.linalg.norm(features - query, axis=1)  # Do search\n",
    "type(dists), np.shape(dists)"
   ]
  },
  {
   "cell_type": "code",
   "execution_count": 45,
   "metadata": {},
   "outputs": [
    {
     "data": {
      "text/plain": [
       "array([0.72304   , 0.8065041 , 0.60158205, 0.        , 0.70538986,\n",
       "       0.5522854 , 0.9774229 , 0.96457505, 0.8962573 ], dtype=float32)"
      ]
     },
     "execution_count": 45,
     "metadata": {},
     "output_type": "execute_result"
    }
   ],
   "source": [
    "dists"
   ]
  },
  {
   "cell_type": "code",
   "execution_count": 46,
   "metadata": {},
   "outputs": [
    {
     "data": {
      "text/plain": [
       "array([3, 5, 2, 4, 0], dtype=int64)"
      ]
     },
     "execution_count": 46,
     "metadata": {},
     "output_type": "execute_result"
    }
   ],
   "source": [
    "ids = np.argsort(dists)[:5] # Top 30 results\n",
    "ids"
   ]
  },
  {
   "cell_type": "code",
   "execution_count": 47,
   "metadata": {},
   "outputs": [
    {
     "ename": "IndexError",
     "evalue": "list index out of range",
     "output_type": "error",
     "traceback": [
      "\u001b[1;31m---------------------------------------------------------------------------\u001b[0m",
      "\u001b[1;31mIndexError\u001b[0m                                Traceback (most recent call last)",
      "\u001b[1;32m<ipython-input-47-82ca742fd436>\u001b[0m in \u001b[0;36m<module>\u001b[1;34m()\u001b[0m\n\u001b[1;32m----> 1\u001b[1;33m \u001b[0mscores\u001b[0m \u001b[1;33m=\u001b[0m \u001b[1;33m[\u001b[0m\u001b[1;33m(\u001b[0m\u001b[0mdists\u001b[0m\u001b[1;33m[\u001b[0m\u001b[0mid\u001b[0m\u001b[1;33m]\u001b[0m\u001b[1;33m,\u001b[0m \u001b[0mimg_paths\u001b[0m\u001b[1;33m[\u001b[0m\u001b[0mid\u001b[0m\u001b[1;33m]\u001b[0m\u001b[1;33m)\u001b[0m \u001b[1;32mfor\u001b[0m \u001b[0mid\u001b[0m \u001b[1;32min\u001b[0m \u001b[0mids\u001b[0m\u001b[1;33m]\u001b[0m\u001b[1;33m\u001b[0m\u001b[0m\n\u001b[0m\u001b[0;32m      2\u001b[0m \u001b[0mscores\u001b[0m\u001b[1;33m\u001b[0m\u001b[0m\n",
      "\u001b[1;32m<ipython-input-47-82ca742fd436>\u001b[0m in \u001b[0;36m<listcomp>\u001b[1;34m(.0)\u001b[0m\n\u001b[1;32m----> 1\u001b[1;33m \u001b[0mscores\u001b[0m \u001b[1;33m=\u001b[0m \u001b[1;33m[\u001b[0m\u001b[1;33m(\u001b[0m\u001b[0mdists\u001b[0m\u001b[1;33m[\u001b[0m\u001b[0mid\u001b[0m\u001b[1;33m]\u001b[0m\u001b[1;33m,\u001b[0m \u001b[0mimg_paths\u001b[0m\u001b[1;33m[\u001b[0m\u001b[0mid\u001b[0m\u001b[1;33m]\u001b[0m\u001b[1;33m)\u001b[0m \u001b[1;32mfor\u001b[0m \u001b[0mid\u001b[0m \u001b[1;32min\u001b[0m \u001b[0mids\u001b[0m\u001b[1;33m]\u001b[0m\u001b[1;33m\u001b[0m\u001b[0m\n\u001b[0m\u001b[0;32m      2\u001b[0m \u001b[0mscores\u001b[0m\u001b[1;33m\u001b[0m\u001b[0m\n",
      "\u001b[1;31mIndexError\u001b[0m: list index out of range"
     ]
    }
   ],
   "source": [
    "scores = [(dists[id], img_paths[id]) for id in ids]\t\n",
    "scores"
   ]
  },
  {
   "cell_type": "code",
   "execution_count": 18,
   "metadata": {
    "collapsed": true
   },
   "outputs": [],
   "source": [
    "import os\n",
    "import numpy as np\n",
    "from PIL import Image\n",
    "from feature_extractor import FeatureExtractor\n",
    "import glob\n",
    "import pickle\n",
    "from datetime import datetime\n",
    "# from flask import Flask, request, render_template\n",
    "\n",
    "# app = Flask(__name__)"
   ]
  },
  {
   "cell_type": "code",
   "execution_count": 37,
   "metadata": {},
   "outputs": [
    {
     "name": "stdout",
     "output_type": "stream",
     "text": [
      "img\\2127.pkl\n",
      "img\\2131.pkl\n",
      "img\\2134.pkl\n",
      "img\\2135.pkl\n",
      "img\\2137.pkl\n",
      "img\\2138.pkl\n",
      "img\\2139.pkl\n",
      "img\\2140.pkl\n",
      "img\\2239.pkl\n",
      "img\\2241.pkl\n",
      "img\\2242.pkl\n"
     ]
    }
   ],
   "source": [
    "# Read image features\n",
    "fe = FeatureExtractor()\n",
    "features = []\n",
    "img_paths = []\n",
    "\n",
    "i = 0\n",
    "for feature_path in glob.glob(\"img\\*.pkl\"):    \n",
    "    print(feature_path)\n",
    "    i= i+1\n",
    "    if i<10:\n",
    "        features.append(pickle.load(open(feature_path, 'rb')))\n",
    "    \n",
    "#     img_paths.append('static/img/' + os.path.splitext(os.path.basename(feature_path))[0] + '.jpg')"
   ]
  },
  {
   "cell_type": "code",
   "execution_count": 39,
   "metadata": {},
   "outputs": [
    {
     "data": {
      "text/plain": [
       "(9, array([0.        , 0.        , 0.        , ..., 0.        , 0.        ,\n",
       "        0.05603974], dtype=float32))"
      ]
     },
     "execution_count": 39,
     "metadata": {},
     "output_type": "execute_result"
    }
   ],
   "source": [
    "len(features), features[0]"
   ]
  },
  {
   "cell_type": "code",
   "execution_count": 27,
   "metadata": {},
   "outputs": [
    {
     "data": {
      "text/plain": [
       "('D:\\\\img\\\\1558.jpg', '1558.jpg')"
      ]
     },
     "execution_count": 27,
     "metadata": {},
     "output_type": "execute_result"
    }
   ],
   "source": [
    "feature_path = glob.glob(\"D:\\img\\*\")\n",
    "\n",
    "feature_path[0], os.path.splitext(os.path.basename(feature_path[0]))[0] + '.jpg'"
   ]
  },
  {
   "cell_type": "code",
   "execution_count": null,
   "metadata": {
    "collapsed": true
   },
   "outputs": [],
   "source": [
    "\n",
    "\n",
    "@app.route('/', methods=['GET', 'POST'])\n",
    "def index():\n",
    "    if request.method == 'POST':\n",
    "        file = request.files['query_img']\n",
    "\n",
    "        img = Image.open(file.stream)  # PIL image\n",
    "        uploaded_img_path = \"static/uploaded/\" + datetime.now().isoformat() + \"_\" + file.filename\n",
    "        img.save(uploaded_img_path)\n",
    "\n",
    "        query = fe.extract(img)\n",
    "        dists = np.linalg.norm(features - query, axis=1)  # Do search\n",
    "        ids = np.argsort(dists)[:5] # Top 30 results\n",
    "        scores = [(dists[id], img_paths[id]) for id in ids]\t\n",
    "\n",
    "        return render_template('index.html',\n",
    "                               query_path=uploaded_img_path,\n",
    "                               scores=scores)\n",
    "    else:\n",
    "        return render_template('index.html')\n",
    "\n",
    "if __name__==\"__main__\":\n",
    "    app.run(\"0.0.0.0\")"
   ]
  },
  {
   "cell_type": "code",
   "execution_count": null,
   "metadata": {
    "collapsed": true
   },
   "outputs": [],
   "source": []
  }
 ],
 "metadata": {
  "kernelspec": {
   "display_name": "Python 3",
   "language": "python",
   "name": "python3"
  },
  "language_info": {
   "codemirror_mode": {
    "name": "ipython",
    "version": 3
   },
   "file_extension": ".py",
   "mimetype": "text/x-python",
   "name": "python",
   "nbconvert_exporter": "python",
   "pygments_lexer": "ipython3",
   "version": "3.6.9"
  }
 },
 "nbformat": 4,
 "nbformat_minor": 2
}
