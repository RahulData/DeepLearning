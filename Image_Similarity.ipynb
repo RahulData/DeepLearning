{
 "cells": [
  {
   "cell_type": "code",
   "execution_count": 6,
   "metadata": {},
   "outputs": [],
   "source": [
    "#train the deep learning model with training data\n",
    "import glob\n",
    "import os\n",
    "import pickle\n",
    "from PIL import Image\n",
    "from feature_extractor import FeatureExtractor"
   ]
  },
  {
   "cell_type": "code",
   "execution_count": 7,
   "metadata": {},
   "outputs": [
    {
     "name": "stdout",
     "output_type": "stream",
     "text": [
      "Downloading data from https://github.com/fchollet/deep-learning-models/releases/download/v0.1/vgg16_weights_tf_dim_ordering_tf_kernels.h5\n",
      "553467904/553467096 [==============================] - 1726s 3us/step\n"
     ]
    }
   ],
   "source": [
    "fe = FeatureExtractor()\n",
    "# This step downloads the .h5 file:\n",
    "# Downloading data from https://github.com/fchollet/deep-learning-models/releases/download/v0.1/vgg16_weights_tf_dim_ordering_tf_kernels.h5\n",
    "# 427769856/553467096 [======================>.......] - ETA: 2:26"
   ]
  },
  {
   "cell_type": "code",
   "execution_count": 8,
   "metadata": {
    "collapsed": true
   },
   "outputs": [],
   "source": [
    "for img_path in sorted(glob.glob('static/img/*.jpg')):\n",
    "    print(img_path)\n",
    "    img = Image.open(img_path)  # PIL image\n",
    "    feature = fe.extract(img)\n",
    "    feature_path = 'static/feature/' + os.path.splitext(os.path.basename(img_path))[0] + '.pkl'\n",
    "    pickle.dump(feature, open(feature_path, 'wb'))"
   ]
  },
  {
   "cell_type": "code",
   "execution_count": null,
   "metadata": {
    "collapsed": true
   },
   "outputs": [],
   "source": [
    "#start web app to query image and find similar images\n",
    "\n",
    "import os\n",
    "import numpy as np\n",
    "from PIL import Image\n",
    "from feature_extractor import FeatureExtractor\n",
    "import glob\n",
    "import pickle\n",
    "from datetime import datetime\n",
    "from flask import Flask, request, render_template\n",
    "\n",
    "app = Flask(__name__)\n",
    "\n",
    "# Read image features\n",
    "fe = FeatureExtractor()\n",
    "features = []\n",
    "img_paths = []\n",
    "for feature_path in glob.glob(\"static/feature/*\"):\n",
    "    features.append(pickle.load(open(feature_path, 'rb')))\n",
    "    img_paths.append('static/img/' + os.path.splitext(os.path.basename(feature_path))[0] + '.jpg')\n",
    "\n",
    "\n",
    "@app.route('/', methods=['GET', 'POST'])\n",
    "def index():\n",
    "    if request.method == 'POST':\n",
    "        file = request.files['query_img']\n",
    "\n",
    "        img = Image.open(file.stream)  # PIL image\n",
    "        uploaded_img_path = \"static/uploaded/\" + datetime.now().isoformat() + \"_\" + file.filename\n",
    "        img.save(uploaded_img_path)\n",
    "\n",
    "        query = fe.extract(img)\n",
    "        dists = np.linalg.norm(features - query, axis=1)  # Do search\n",
    "        ids = np.argsort(dists)[:5] # Top 30 results\n",
    "        scores = [(dists[id], img_paths[id]) for id in ids]\t\n",
    "\n",
    "        return render_template('index.html',\n",
    "                               query_path=uploaded_img_path,\n",
    "                               scores=scores)\n",
    "    else:\n",
    "        return render_template('index.html')\n",
    "\n",
    "if __name__==\"__main__\":\n",
    "    app.run(\"0.0.0.0\")"
   ]
  },
  {
   "cell_type": "code",
   "execution_count": null,
   "metadata": {
    "collapsed": true
   },
   "outputs": [],
   "source": []
  }
 ],
 "metadata": {
  "kernelspec": {
   "display_name": "Python 3",
   "language": "python",
   "name": "python3"
  },
  "language_info": {
   "codemirror_mode": {
    "name": "ipython",
    "version": 3
   },
   "file_extension": ".py",
   "mimetype": "text/x-python",
   "name": "python",
   "nbconvert_exporter": "python",
   "pygments_lexer": "ipython3",
   "version": "3.6.1"
  }
 },
 "nbformat": 4,
 "nbformat_minor": 2
}
